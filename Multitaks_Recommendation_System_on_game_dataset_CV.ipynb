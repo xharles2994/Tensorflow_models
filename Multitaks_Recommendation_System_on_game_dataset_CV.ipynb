{
  "cells": [
    {
      "cell_type": "markdown",
      "metadata": {
        "id": "view-in-github",
        "colab_type": "text"
      },
      "source": [
        "<a href=\"https://colab.research.google.com/github/xharles2994/Tensorflow_models/blob/main/Multitaks_Recommendation_System_on_game_dataset_CV.ipynb\" target=\"_parent\"><img src=\"https://colab.research.google.com/assets/colab-badge.svg\" alt=\"Open In Colab\"/></a>"
      ]
    },
    {
      "cell_type": "markdown",
      "source": [
        "#Multitaks_Recommendation_System_on_game_dataset_CV.ipynb"
      ],
      "metadata": {
        "id": "0W3mbC9G23ne"
      }
    },
    {
      "cell_type": "markdown",
      "source": [
        "##problem Statement:\n",
        "The Steam Store, a popular digital distribution platform for video games, provides users with a vast selection of games to choose from. However, with such a large number of games available, it becomes challenging for users to discover games that align with their preferences and interests. The existing recommendation system on the Steam Store lacks the ability to effectively combine retrieval and ranking techniques to provide personalized game recommendations. Therefore, there is a need to develop a combined retrieval and ranking system for game recommendations on the Steam Store using a two-tower model with TensorFlow Recommenders.\n",
        "\n",
        "##Objective:\n",
        "The objective of this project is to design and implement a game recommendation system for the Steam Store that leverages the power of TensorFlow Recommenders and utilizes a two-tower model. The system should address the limitations of the existing recommendation system and provide users with personalized and relevant game recommendations based on their preferences. The specific objectives of the project are as follows:\n",
        "\n",
        "1. Data Preparation: Collect and preprocess the relevant data, including user preferences, game metadata, and historical interactions, to create a suitable dataset for training and evaluation.\n",
        "\n",
        "2. Model Development: Build a combined retrieval and ranking model using a two-tower architecture with TensorFlow Recommenders. The two-tower model should incorporate both user preferences and game features to generate personalized recommendations.\n",
        "\n",
        "3. Training and Evaluation: Train the two-tower model using the prepared dataset and evaluate its performance using appropriate evaluation metrics. Fine-tune the model to optimize recommendation accuracy and relevance.\n",
        "\n",
        "4. Integration with Steam Store: Integrate the developed recommendation system with the Steam Store platform, enabling users to receive personalized game recommendations based on their preferences.\n",
        "\n",
        "5. User Interface: Design and develop a user-friendly interface that allows users to provide feedback on recommended games, explore additional recommendations, and customize their preferences.\n",
        "\n",
        "6. Performance Optimization: Optimize the recommendation system for scalability and efficiency to handle a large number of users and games, ensuring real-time recommendations with minimal latency.\n",
        "\n",
        "By achieving these objectives, the combined retrieval and ranking system utilizing a two-tower model will enhance the game discovery experience on the Steam Store, providing users with tailored recommendations that match their interests and preferences."
      ],
      "metadata": {
        "id": "WgHsgbIl2Hs2"
      }
    },
    {
      "cell_type": "markdown",
      "metadata": {
        "id": "X9KiqjZckxiK"
      },
      "source": [
        "###Imports\n",
        "Let's include our imports here. Here we import our tensorflow and python libaries to be called in the project"
      ]
    },
    {
      "cell_type": "code",
      "execution_count": null,
      "metadata": {
        "id": "MCAy-kHQnYok"
      },
      "outputs": [],
      "source": [
        "!pip install -q tensorflow-recommenders\n",
        "!pip install -q --upgrade tensorflow-datasets\n",
        "!pip install -q scann"
      ]
    },
    {
      "cell_type": "code",
      "execution_count": null,
      "metadata": {
        "id": "wCKKW-NnoGin"
      },
      "outputs": [],
      "source": [
        "import os\n",
        "import pprint\n",
        "import tempfile\n",
        "\n",
        "from typing import Dict, Text\n",
        "\n",
        "import numpy as np\n",
        "import tensorflow as tf\n",
        "import tensorflow_datasets as tfds"
      ]
    },
    {
      "cell_type": "code",
      "execution_count": null,
      "metadata": {
        "id": "4ySVMEGOoQDn"
      },
      "outputs": [],
      "source": [
        "import tensorflow_recommenders as tfrs"
      ]
    },
    {
      "cell_type": "markdown",
      "metadata": {
        "id": "t2sVB5IJmFBa"
      },
      "source": [
        "#About the dataset\n",
        "https://www.kaggle.com/datasets/antonkozyriev/game-recommendations-on-steam\n",
        "\n",
        "##Context\n",
        "The dataset contains cleaned and preprocessed 10M+ samples of user recommendations (reviews) from a Steam Store - a leading online platform for purchasing and downloading video games, DLC, and other gaming-related content. Additionally, it contains detailed information about games and add-ons.\n",
        "The dataset consists of three main entities:\n",
        "\n",
        "##Content\n",
        "Games.csv - a table of games (or add-ons) information on ratings, pricing in US dollars $, release date, etc. A piece of extra non-tabular details on games, such as descriptions and tags, is in a metadata file;\n",
        "\n",
        "Users.csv - a table of user profiles' public information: the number of purchased products and reviews published;\n",
        "\n",
        "Recommendations.csv - a table of user reviews: whether the user recommends a product. The table represents a many-many relation between a game entity and a user entity.\n",
        "\n",
        "\n",
        "\n",
        "#Acknowledgement - The dataset was collected from Steam Official Store. All rights on the dataset thumbnail image belong to the Valve Corporation."
      ]
    },
    {
      "cell_type": "markdown",
      "metadata": {
        "id": "nO9Jtfc9sSF4"
      },
      "source": [
        "#Preparing the dataset\n",
        "Let's first have a look at the data."
      ]
    },
    {
      "cell_type": "code",
      "execution_count": null,
      "metadata": {
        "id": "JALynnQbrNha",
        "colab": {
          "base_uri": "https://localhost:8080/"
        },
        "outputId": "57c82641-9915-4eee-8da9-cf46a1f74435"
      },
      "outputs": [
        {
          "output_type": "stream",
          "name": "stdout",
          "text": [
            "Drive already mounted at /content/drive; to attempt to forcibly remount, call drive.mount(\"/content/drive\", force_remount=True).\n"
          ]
        }
      ],
      "source": [
        "from google.colab import drive\n",
        "drive.mount('/content/drive')"
      ]
    },
    {
      "cell_type": "code",
      "execution_count": null,
      "metadata": {
        "colab": {
          "base_uri": "https://localhost:8080/",
          "height": 206
        },
        "id": "_x9GH1IToTUM",
        "outputId": "9f2ea7e0-69db-44cc-c1a8-6ac7c6ffea2d"
      },
      "outputs": [
        {
          "output_type": "execute_result",
          "data": {
            "text/plain": [
              "    app_id  helpful  funny        date  is_recommended  hours  user_id  \\\n",
              "0   975370        0      0  2022-12-12            True   36.3    19954   \n",
              "1   304390        4      0  2017-02-17           False   11.5     1098   \n",
              "2  1085660        2      0  2019-11-17            True  336.5    91207   \n",
              "3   703080        0      0  2022-09-23            True   27.4    93054   \n",
              "4   526870        0      0  2021-01-10            True    7.9     9106   \n",
              "\n",
              "   review_id  \n",
              "0          0  \n",
              "1          1  \n",
              "2          2  \n",
              "3          3  \n",
              "4          4  "
            ],
            "text/html": [
              "\n",
              "  <div id=\"df-8ae909c6-6c72-43d5-a84e-98ae01d144df\">\n",
              "    <div class=\"colab-df-container\">\n",
              "      <div>\n",
              "<style scoped>\n",
              "    .dataframe tbody tr th:only-of-type {\n",
              "        vertical-align: middle;\n",
              "    }\n",
              "\n",
              "    .dataframe tbody tr th {\n",
              "        vertical-align: top;\n",
              "    }\n",
              "\n",
              "    .dataframe thead th {\n",
              "        text-align: right;\n",
              "    }\n",
              "</style>\n",
              "<table border=\"1\" class=\"dataframe\">\n",
              "  <thead>\n",
              "    <tr style=\"text-align: right;\">\n",
              "      <th></th>\n",
              "      <th>app_id</th>\n",
              "      <th>helpful</th>\n",
              "      <th>funny</th>\n",
              "      <th>date</th>\n",
              "      <th>is_recommended</th>\n",
              "      <th>hours</th>\n",
              "      <th>user_id</th>\n",
              "      <th>review_id</th>\n",
              "    </tr>\n",
              "  </thead>\n",
              "  <tbody>\n",
              "    <tr>\n",
              "      <th>0</th>\n",
              "      <td>975370</td>\n",
              "      <td>0</td>\n",
              "      <td>0</td>\n",
              "      <td>2022-12-12</td>\n",
              "      <td>True</td>\n",
              "      <td>36.3</td>\n",
              "      <td>19954</td>\n",
              "      <td>0</td>\n",
              "    </tr>\n",
              "    <tr>\n",
              "      <th>1</th>\n",
              "      <td>304390</td>\n",
              "      <td>4</td>\n",
              "      <td>0</td>\n",
              "      <td>2017-02-17</td>\n",
              "      <td>False</td>\n",
              "      <td>11.5</td>\n",
              "      <td>1098</td>\n",
              "      <td>1</td>\n",
              "    </tr>\n",
              "    <tr>\n",
              "      <th>2</th>\n",
              "      <td>1085660</td>\n",
              "      <td>2</td>\n",
              "      <td>0</td>\n",
              "      <td>2019-11-17</td>\n",
              "      <td>True</td>\n",
              "      <td>336.5</td>\n",
              "      <td>91207</td>\n",
              "      <td>2</td>\n",
              "    </tr>\n",
              "    <tr>\n",
              "      <th>3</th>\n",
              "      <td>703080</td>\n",
              "      <td>0</td>\n",
              "      <td>0</td>\n",
              "      <td>2022-09-23</td>\n",
              "      <td>True</td>\n",
              "      <td>27.4</td>\n",
              "      <td>93054</td>\n",
              "      <td>3</td>\n",
              "    </tr>\n",
              "    <tr>\n",
              "      <th>4</th>\n",
              "      <td>526870</td>\n",
              "      <td>0</td>\n",
              "      <td>0</td>\n",
              "      <td>2021-01-10</td>\n",
              "      <td>True</td>\n",
              "      <td>7.9</td>\n",
              "      <td>9106</td>\n",
              "      <td>4</td>\n",
              "    </tr>\n",
              "  </tbody>\n",
              "</table>\n",
              "</div>\n",
              "      <button class=\"colab-df-convert\" onclick=\"convertToInteractive('df-8ae909c6-6c72-43d5-a84e-98ae01d144df')\"\n",
              "              title=\"Convert this dataframe to an interactive table.\"\n",
              "              style=\"display:none;\">\n",
              "        \n",
              "  <svg xmlns=\"http://www.w3.org/2000/svg\" height=\"24px\"viewBox=\"0 0 24 24\"\n",
              "       width=\"24px\">\n",
              "    <path d=\"M0 0h24v24H0V0z\" fill=\"none\"/>\n",
              "    <path d=\"M18.56 5.44l.94 2.06.94-2.06 2.06-.94-2.06-.94-.94-2.06-.94 2.06-2.06.94zm-11 1L8.5 8.5l.94-2.06 2.06-.94-2.06-.94L8.5 2.5l-.94 2.06-2.06.94zm10 10l.94 2.06.94-2.06 2.06-.94-2.06-.94-.94-2.06-.94 2.06-2.06.94z\"/><path d=\"M17.41 7.96l-1.37-1.37c-.4-.4-.92-.59-1.43-.59-.52 0-1.04.2-1.43.59L10.3 9.45l-7.72 7.72c-.78.78-.78 2.05 0 2.83L4 21.41c.39.39.9.59 1.41.59.51 0 1.02-.2 1.41-.59l7.78-7.78 2.81-2.81c.8-.78.8-2.07 0-2.86zM5.41 20L4 18.59l7.72-7.72 1.47 1.35L5.41 20z\"/>\n",
              "  </svg>\n",
              "      </button>\n",
              "      \n",
              "  <style>\n",
              "    .colab-df-container {\n",
              "      display:flex;\n",
              "      flex-wrap:wrap;\n",
              "      gap: 12px;\n",
              "    }\n",
              "\n",
              "    .colab-df-convert {\n",
              "      background-color: #E8F0FE;\n",
              "      border: none;\n",
              "      border-radius: 50%;\n",
              "      cursor: pointer;\n",
              "      display: none;\n",
              "      fill: #1967D2;\n",
              "      height: 32px;\n",
              "      padding: 0 0 0 0;\n",
              "      width: 32px;\n",
              "    }\n",
              "\n",
              "    .colab-df-convert:hover {\n",
              "      background-color: #E2EBFA;\n",
              "      box-shadow: 0px 1px 2px rgba(60, 64, 67, 0.3), 0px 1px 3px 1px rgba(60, 64, 67, 0.15);\n",
              "      fill: #174EA6;\n",
              "    }\n",
              "\n",
              "    [theme=dark] .colab-df-convert {\n",
              "      background-color: #3B4455;\n",
              "      fill: #D2E3FC;\n",
              "    }\n",
              "\n",
              "    [theme=dark] .colab-df-convert:hover {\n",
              "      background-color: #434B5C;\n",
              "      box-shadow: 0px 1px 3px 1px rgba(0, 0, 0, 0.15);\n",
              "      filter: drop-shadow(0px 1px 2px rgba(0, 0, 0, 0.3));\n",
              "      fill: #FFFFFF;\n",
              "    }\n",
              "  </style>\n",
              "\n",
              "      <script>\n",
              "        const buttonEl =\n",
              "          document.querySelector('#df-8ae909c6-6c72-43d5-a84e-98ae01d144df button.colab-df-convert');\n",
              "        buttonEl.style.display =\n",
              "          google.colab.kernel.accessAllowed ? 'block' : 'none';\n",
              "\n",
              "        async function convertToInteractive(key) {\n",
              "          const element = document.querySelector('#df-8ae909c6-6c72-43d5-a84e-98ae01d144df');\n",
              "          const dataTable =\n",
              "            await google.colab.kernel.invokeFunction('convertToInteractive',\n",
              "                                                     [key], {});\n",
              "          if (!dataTable) return;\n",
              "\n",
              "          const docLinkHtml = 'Like what you see? Visit the ' +\n",
              "            '<a target=\"_blank\" href=https://colab.research.google.com/notebooks/data_table.ipynb>data table notebook</a>'\n",
              "            + ' to learn more about interactive tables.';\n",
              "          element.innerHTML = '';\n",
              "          dataTable['output_type'] = 'display_data';\n",
              "          await google.colab.output.renderOutput(dataTable, element);\n",
              "          const docLink = document.createElement('div');\n",
              "          docLink.innerHTML = docLinkHtml;\n",
              "          element.appendChild(docLink);\n",
              "        }\n",
              "      </script>\n",
              "    </div>\n",
              "  </div>\n",
              "  "
            ]
          },
          "metadata": {},
          "execution_count": 5
        }
      ],
      "source": [
        "import pandas as pd\n",
        "\n",
        "# load the recommenders data\n",
        "\n",
        "columns = ['app_id', 'helpful', 'funny', 'date', 'is_recommended', 'user_id', 'review_id']\n",
        "ratings = pd.read_csv('/content/drive/MyDrive/PORTFOLIO/Dataset/Game-recommendation_Retrieval/recommendations.csv')\n",
        "ratings.head()"
      ]
    },
    {
      "cell_type": "code",
      "execution_count": null,
      "metadata": {
        "id": "ibWytPltF9ir"
      },
      "outputs": [],
      "source": [
        "#Code will convert each column\n",
        "# Read the CSV file\n",
        "df = pd.read_csv('/content/drive/MyDrive/PORTFOLIO/Dataset/Game-recommendation_Retrieval/games.csv')\n",
        "\n",
        "# Define a dictionary to map rating strings to integers\n",
        "rating_map = {\n",
        "    'Overwhelmingly Negative': 0,\n",
        "    'Mostly Negative': 1,\n",
        "    'Very Negative': 2,\n",
        "    'Negative': 3,\n",
        "    'Mixed': 4,\n",
        "    'Positive': 5,\n",
        "    'Very Positive': 6,\n",
        "    'Mostly Positive': 7,\n",
        "    'Overwhelmingly Positive': 8\n",
        "}\n",
        "\n",
        "# Create a new column 'ranking' mapped from 'rating'\n",
        "df['ranking'] = df['rating'].map(rating_map)\n",
        "\n",
        "# Write the new dataframe to CSV\n",
        "df.to_csv('games.csv', index=False)"
      ]
    },
    {
      "cell_type": "code",
      "execution_count": null,
      "metadata": {
        "colab": {
          "base_uri": "https://localhost:8080/",
          "height": 206
        },
        "id": "RYWEU2oSHuzN",
        "outputId": "573c3922-f1db-42d9-8d41-547bfec90941"
      },
      "outputs": [
        {
          "output_type": "execute_result",
          "data": {
            "text/plain": [
              "   app_id                              title  ranking\n",
              "0   10090         Call of Duty: World at War        6\n",
              "1   13500  Prince of Persia: Warrior Within™        6\n",
              "2   22364            BRINK: Agents of Change        5\n",
              "3  113020       Monaco: What's Yours Is Mine        6\n",
              "4  226560                 Escape Dead Island        4"
            ],
            "text/html": [
              "\n",
              "  <div id=\"df-dd72c2ad-a8c7-49b4-85ab-277cd7b223a5\">\n",
              "    <div class=\"colab-df-container\">\n",
              "      <div>\n",
              "<style scoped>\n",
              "    .dataframe tbody tr th:only-of-type {\n",
              "        vertical-align: middle;\n",
              "    }\n",
              "\n",
              "    .dataframe tbody tr th {\n",
              "        vertical-align: top;\n",
              "    }\n",
              "\n",
              "    .dataframe thead th {\n",
              "        text-align: right;\n",
              "    }\n",
              "</style>\n",
              "<table border=\"1\" class=\"dataframe\">\n",
              "  <thead>\n",
              "    <tr style=\"text-align: right;\">\n",
              "      <th></th>\n",
              "      <th>app_id</th>\n",
              "      <th>title</th>\n",
              "      <th>ranking</th>\n",
              "    </tr>\n",
              "  </thead>\n",
              "  <tbody>\n",
              "    <tr>\n",
              "      <th>0</th>\n",
              "      <td>10090</td>\n",
              "      <td>Call of Duty: World at War</td>\n",
              "      <td>6</td>\n",
              "    </tr>\n",
              "    <tr>\n",
              "      <th>1</th>\n",
              "      <td>13500</td>\n",
              "      <td>Prince of Persia: Warrior Within™</td>\n",
              "      <td>6</td>\n",
              "    </tr>\n",
              "    <tr>\n",
              "      <th>2</th>\n",
              "      <td>22364</td>\n",
              "      <td>BRINK: Agents of Change</td>\n",
              "      <td>5</td>\n",
              "    </tr>\n",
              "    <tr>\n",
              "      <th>3</th>\n",
              "      <td>113020</td>\n",
              "      <td>Monaco: What's Yours Is Mine</td>\n",
              "      <td>6</td>\n",
              "    </tr>\n",
              "    <tr>\n",
              "      <th>4</th>\n",
              "      <td>226560</td>\n",
              "      <td>Escape Dead Island</td>\n",
              "      <td>4</td>\n",
              "    </tr>\n",
              "  </tbody>\n",
              "</table>\n",
              "</div>\n",
              "      <button class=\"colab-df-convert\" onclick=\"convertToInteractive('df-dd72c2ad-a8c7-49b4-85ab-277cd7b223a5')\"\n",
              "              title=\"Convert this dataframe to an interactive table.\"\n",
              "              style=\"display:none;\">\n",
              "        \n",
              "  <svg xmlns=\"http://www.w3.org/2000/svg\" height=\"24px\"viewBox=\"0 0 24 24\"\n",
              "       width=\"24px\">\n",
              "    <path d=\"M0 0h24v24H0V0z\" fill=\"none\"/>\n",
              "    <path d=\"M18.56 5.44l.94 2.06.94-2.06 2.06-.94-2.06-.94-.94-2.06-.94 2.06-2.06.94zm-11 1L8.5 8.5l.94-2.06 2.06-.94-2.06-.94L8.5 2.5l-.94 2.06-2.06.94zm10 10l.94 2.06.94-2.06 2.06-.94-2.06-.94-.94-2.06-.94 2.06-2.06.94z\"/><path d=\"M17.41 7.96l-1.37-1.37c-.4-.4-.92-.59-1.43-.59-.52 0-1.04.2-1.43.59L10.3 9.45l-7.72 7.72c-.78.78-.78 2.05 0 2.83L4 21.41c.39.39.9.59 1.41.59.51 0 1.02-.2 1.41-.59l7.78-7.78 2.81-2.81c.8-.78.8-2.07 0-2.86zM5.41 20L4 18.59l7.72-7.72 1.47 1.35L5.41 20z\"/>\n",
              "  </svg>\n",
              "      </button>\n",
              "      \n",
              "  <style>\n",
              "    .colab-df-container {\n",
              "      display:flex;\n",
              "      flex-wrap:wrap;\n",
              "      gap: 12px;\n",
              "    }\n",
              "\n",
              "    .colab-df-convert {\n",
              "      background-color: #E8F0FE;\n",
              "      border: none;\n",
              "      border-radius: 50%;\n",
              "      cursor: pointer;\n",
              "      display: none;\n",
              "      fill: #1967D2;\n",
              "      height: 32px;\n",
              "      padding: 0 0 0 0;\n",
              "      width: 32px;\n",
              "    }\n",
              "\n",
              "    .colab-df-convert:hover {\n",
              "      background-color: #E2EBFA;\n",
              "      box-shadow: 0px 1px 2px rgba(60, 64, 67, 0.3), 0px 1px 3px 1px rgba(60, 64, 67, 0.15);\n",
              "      fill: #174EA6;\n",
              "    }\n",
              "\n",
              "    [theme=dark] .colab-df-convert {\n",
              "      background-color: #3B4455;\n",
              "      fill: #D2E3FC;\n",
              "    }\n",
              "\n",
              "    [theme=dark] .colab-df-convert:hover {\n",
              "      background-color: #434B5C;\n",
              "      box-shadow: 0px 1px 3px 1px rgba(0, 0, 0, 0.15);\n",
              "      filter: drop-shadow(0px 1px 2px rgba(0, 0, 0, 0.3));\n",
              "      fill: #FFFFFF;\n",
              "    }\n",
              "  </style>\n",
              "\n",
              "      <script>\n",
              "        const buttonEl =\n",
              "          document.querySelector('#df-dd72c2ad-a8c7-49b4-85ab-277cd7b223a5 button.colab-df-convert');\n",
              "        buttonEl.style.display =\n",
              "          google.colab.kernel.accessAllowed ? 'block' : 'none';\n",
              "\n",
              "        async function convertToInteractive(key) {\n",
              "          const element = document.querySelector('#df-dd72c2ad-a8c7-49b4-85ab-277cd7b223a5');\n",
              "          const dataTable =\n",
              "            await google.colab.kernel.invokeFunction('convertToInteractive',\n",
              "                                                     [key], {});\n",
              "          if (!dataTable) return;\n",
              "\n",
              "          const docLinkHtml = 'Like what you see? Visit the ' +\n",
              "            '<a target=\"_blank\" href=https://colab.research.google.com/notebooks/data_table.ipynb>data table notebook</a>'\n",
              "            + ' to learn more about interactive tables.';\n",
              "          element.innerHTML = '';\n",
              "          dataTable['output_type'] = 'display_data';\n",
              "          await google.colab.output.renderOutput(dataTable, element);\n",
              "          const docLink = document.createElement('div');\n",
              "          docLink.innerHTML = docLinkHtml;\n",
              "          element.appendChild(docLink);\n",
              "        }\n",
              "      </script>\n",
              "    </div>\n",
              "  </div>\n",
              "  "
            ]
          },
          "metadata": {},
          "execution_count": 7
        }
      ],
      "source": [
        "games = pd.read_csv('games.csv')\n",
        "games = games[['app_id', 'title', 'ranking']]\n",
        "games.head()"
      ]
    },
    {
      "cell_type": "code",
      "execution_count": null,
      "metadata": {
        "colab": {
          "base_uri": "https://localhost:8080/",
          "height": 424
        },
        "id": "Qhbj-puSwSJi",
        "outputId": "274516c5-50b9-4318-f4ab-48ef168aecbf"
      },
      "outputs": [
        {
          "output_type": "execute_result",
          "data": {
            "text/plain": [
              "                           title  user_id  ranking\n",
              "0                 Dwarf Fortress    19954        8\n",
              "1                 Dwarf Fortress  4993590        8\n",
              "2                 Dwarf Fortress  4452487        8\n",
              "3                 Dwarf Fortress  3602361        8\n",
              "4                 Dwarf Fortress  5279412        8\n",
              "...                          ...      ...      ...\n",
              "10072265  Paragon: The Overprime   373561        4\n",
              "10072266  Paragon: The Overprime  2165144        4\n",
              "10072267  Paragon: The Overprime  4388597        4\n",
              "10072268  Paragon: The Overprime   705328        4\n",
              "10072269  Paragon: The Overprime  1347624        4\n",
              "\n",
              "[10072270 rows x 3 columns]"
            ],
            "text/html": [
              "\n",
              "  <div id=\"df-5d0b9605-76be-49a0-a160-2d1afe0e6dd3\">\n",
              "    <div class=\"colab-df-container\">\n",
              "      <div>\n",
              "<style scoped>\n",
              "    .dataframe tbody tr th:only-of-type {\n",
              "        vertical-align: middle;\n",
              "    }\n",
              "\n",
              "    .dataframe tbody tr th {\n",
              "        vertical-align: top;\n",
              "    }\n",
              "\n",
              "    .dataframe thead th {\n",
              "        text-align: right;\n",
              "    }\n",
              "</style>\n",
              "<table border=\"1\" class=\"dataframe\">\n",
              "  <thead>\n",
              "    <tr style=\"text-align: right;\">\n",
              "      <th></th>\n",
              "      <th>title</th>\n",
              "      <th>user_id</th>\n",
              "      <th>ranking</th>\n",
              "    </tr>\n",
              "  </thead>\n",
              "  <tbody>\n",
              "    <tr>\n",
              "      <th>0</th>\n",
              "      <td>Dwarf Fortress</td>\n",
              "      <td>19954</td>\n",
              "      <td>8</td>\n",
              "    </tr>\n",
              "    <tr>\n",
              "      <th>1</th>\n",
              "      <td>Dwarf Fortress</td>\n",
              "      <td>4993590</td>\n",
              "      <td>8</td>\n",
              "    </tr>\n",
              "    <tr>\n",
              "      <th>2</th>\n",
              "      <td>Dwarf Fortress</td>\n",
              "      <td>4452487</td>\n",
              "      <td>8</td>\n",
              "    </tr>\n",
              "    <tr>\n",
              "      <th>3</th>\n",
              "      <td>Dwarf Fortress</td>\n",
              "      <td>3602361</td>\n",
              "      <td>8</td>\n",
              "    </tr>\n",
              "    <tr>\n",
              "      <th>4</th>\n",
              "      <td>Dwarf Fortress</td>\n",
              "      <td>5279412</td>\n",
              "      <td>8</td>\n",
              "    </tr>\n",
              "    <tr>\n",
              "      <th>...</th>\n",
              "      <td>...</td>\n",
              "      <td>...</td>\n",
              "      <td>...</td>\n",
              "    </tr>\n",
              "    <tr>\n",
              "      <th>10072265</th>\n",
              "      <td>Paragon: The Overprime</td>\n",
              "      <td>373561</td>\n",
              "      <td>4</td>\n",
              "    </tr>\n",
              "    <tr>\n",
              "      <th>10072266</th>\n",
              "      <td>Paragon: The Overprime</td>\n",
              "      <td>2165144</td>\n",
              "      <td>4</td>\n",
              "    </tr>\n",
              "    <tr>\n",
              "      <th>10072267</th>\n",
              "      <td>Paragon: The Overprime</td>\n",
              "      <td>4388597</td>\n",
              "      <td>4</td>\n",
              "    </tr>\n",
              "    <tr>\n",
              "      <th>10072268</th>\n",
              "      <td>Paragon: The Overprime</td>\n",
              "      <td>705328</td>\n",
              "      <td>4</td>\n",
              "    </tr>\n",
              "    <tr>\n",
              "      <th>10072269</th>\n",
              "      <td>Paragon: The Overprime</td>\n",
              "      <td>1347624</td>\n",
              "      <td>4</td>\n",
              "    </tr>\n",
              "  </tbody>\n",
              "</table>\n",
              "<p>10072270 rows × 3 columns</p>\n",
              "</div>\n",
              "      <button class=\"colab-df-convert\" onclick=\"convertToInteractive('df-5d0b9605-76be-49a0-a160-2d1afe0e6dd3')\"\n",
              "              title=\"Convert this dataframe to an interactive table.\"\n",
              "              style=\"display:none;\">\n",
              "        \n",
              "  <svg xmlns=\"http://www.w3.org/2000/svg\" height=\"24px\"viewBox=\"0 0 24 24\"\n",
              "       width=\"24px\">\n",
              "    <path d=\"M0 0h24v24H0V0z\" fill=\"none\"/>\n",
              "    <path d=\"M18.56 5.44l.94 2.06.94-2.06 2.06-.94-2.06-.94-.94-2.06-.94 2.06-2.06.94zm-11 1L8.5 8.5l.94-2.06 2.06-.94-2.06-.94L8.5 2.5l-.94 2.06-2.06.94zm10 10l.94 2.06.94-2.06 2.06-.94-2.06-.94-.94-2.06-.94 2.06-2.06.94z\"/><path d=\"M17.41 7.96l-1.37-1.37c-.4-.4-.92-.59-1.43-.59-.52 0-1.04.2-1.43.59L10.3 9.45l-7.72 7.72c-.78.78-.78 2.05 0 2.83L4 21.41c.39.39.9.59 1.41.59.51 0 1.02-.2 1.41-.59l7.78-7.78 2.81-2.81c.8-.78.8-2.07 0-2.86zM5.41 20L4 18.59l7.72-7.72 1.47 1.35L5.41 20z\"/>\n",
              "  </svg>\n",
              "      </button>\n",
              "      \n",
              "  <style>\n",
              "    .colab-df-container {\n",
              "      display:flex;\n",
              "      flex-wrap:wrap;\n",
              "      gap: 12px;\n",
              "    }\n",
              "\n",
              "    .colab-df-convert {\n",
              "      background-color: #E8F0FE;\n",
              "      border: none;\n",
              "      border-radius: 50%;\n",
              "      cursor: pointer;\n",
              "      display: none;\n",
              "      fill: #1967D2;\n",
              "      height: 32px;\n",
              "      padding: 0 0 0 0;\n",
              "      width: 32px;\n",
              "    }\n",
              "\n",
              "    .colab-df-convert:hover {\n",
              "      background-color: #E2EBFA;\n",
              "      box-shadow: 0px 1px 2px rgba(60, 64, 67, 0.3), 0px 1px 3px 1px rgba(60, 64, 67, 0.15);\n",
              "      fill: #174EA6;\n",
              "    }\n",
              "\n",
              "    [theme=dark] .colab-df-convert {\n",
              "      background-color: #3B4455;\n",
              "      fill: #D2E3FC;\n",
              "    }\n",
              "\n",
              "    [theme=dark] .colab-df-convert:hover {\n",
              "      background-color: #434B5C;\n",
              "      box-shadow: 0px 1px 3px 1px rgba(0, 0, 0, 0.15);\n",
              "      filter: drop-shadow(0px 1px 2px rgba(0, 0, 0, 0.3));\n",
              "      fill: #FFFFFF;\n",
              "    }\n",
              "  </style>\n",
              "\n",
              "      <script>\n",
              "        const buttonEl =\n",
              "          document.querySelector('#df-5d0b9605-76be-49a0-a160-2d1afe0e6dd3 button.colab-df-convert');\n",
              "        buttonEl.style.display =\n",
              "          google.colab.kernel.accessAllowed ? 'block' : 'none';\n",
              "\n",
              "        async function convertToInteractive(key) {\n",
              "          const element = document.querySelector('#df-5d0b9605-76be-49a0-a160-2d1afe0e6dd3');\n",
              "          const dataTable =\n",
              "            await google.colab.kernel.invokeFunction('convertToInteractive',\n",
              "                                                     [key], {});\n",
              "          if (!dataTable) return;\n",
              "\n",
              "          const docLinkHtml = 'Like what you see? Visit the ' +\n",
              "            '<a target=\"_blank\" href=https://colab.research.google.com/notebooks/data_table.ipynb>data table notebook</a>'\n",
              "            + ' to learn more about interactive tables.';\n",
              "          element.innerHTML = '';\n",
              "          dataTable['output_type'] = 'display_data';\n",
              "          await google.colab.output.renderOutput(dataTable, element);\n",
              "          const docLink = document.createElement('div');\n",
              "          docLink.innerHTML = docLinkHtml;\n",
              "          element.appendChild(docLink);\n",
              "        }\n",
              "      </script>\n",
              "    </div>\n",
              "  </div>\n",
              "  "
            ]
          },
          "metadata": {},
          "execution_count": 8
        }
      ],
      "source": [
        "# join the ratings with the games\n",
        "\n",
        "ratings = pd.merge(ratings, games, on='app_id')\n",
        "\n",
        "\n",
        "# keep only the user id and the games title columns\n",
        "\n",
        "ratings = ratings[['title', 'user_id', 'ranking']].reset_index(drop=True)\n",
        "\n",
        "ratings"
      ]
    },
    {
      "cell_type": "code",
      "execution_count": null,
      "metadata": {
        "id": "GTfe7Wt-yXbz"
      },
      "outputs": [],
      "source": [
        "# save to a csv file\n",
        "\n",
        "ratings.to_csv('ratings.csv', index=False)\n",
        "games.to_csv('games.csv', index=False)"
      ]
    },
    {
      "cell_type": "code",
      "execution_count": null,
      "metadata": {
        "id": "t4Fu5gVRy18E"
      },
      "outputs": [],
      "source": [
        "from typing import Dict, Text\n",
        "# read the csv files as pandas data frames\n",
        "ratings_df = pd.read_csv('ratings.csv')\n",
        "games_df = pd.read_csv('games.csv')"
      ]
    },
    {
      "cell_type": "markdown",
      "metadata": {
        "id": "IqVYQXTjzbSB"
      },
      "source": [
        "We now convert our Panda Dataframe into Tensorflow dataset"
      ]
    },
    {
      "cell_type": "code",
      "execution_count": null,
      "metadata": {
        "id": "8GiLhI3bzhS_"
      },
      "outputs": [],
      "source": [
        "# convert them to tf datasets\n",
        "ratings = tf.data.Dataset.from_tensor_slices(dict(ratings_df))\n",
        "games = tf.data.Dataset.from_tensor_slices(dict(games_df))"
      ]
    },
    {
      "cell_type": "code",
      "execution_count": null,
      "metadata": {
        "colab": {
          "base_uri": "https://localhost:8080/"
        },
        "id": "YReP1m3qz3L2",
        "outputId": "424b4ab0-8ef8-46f8-8704-3e3056b84569"
      },
      "outputs": [
        {
          "output_type": "stream",
          "name": "stdout",
          "text": [
            "{'app_id': <tf.Tensor: shape=(), dtype=int64, numpy=10090>, 'title': <tf.Tensor: shape=(), dtype=string, numpy=b'Call of Duty: World at War'>, 'ranking': <tf.Tensor: shape=(), dtype=int64, numpy=6>}\n",
            "{'app_id': <tf.Tensor: shape=(), dtype=int64, numpy=13500>, 'title': <tf.Tensor: shape=(), dtype=string, numpy=b'Prince of Persia: Warrior Within\\xe2\\x84\\xa2'>, 'ranking': <tf.Tensor: shape=(), dtype=int64, numpy=6>}\n",
            "{'app_id': <tf.Tensor: shape=(), dtype=int64, numpy=22364>, 'title': <tf.Tensor: shape=(), dtype=string, numpy=b'BRINK: Agents of Change'>, 'ranking': <tf.Tensor: shape=(), dtype=int64, numpy=5>}\n",
            "{'app_id': <tf.Tensor: shape=(), dtype=int64, numpy=113020>, 'title': <tf.Tensor: shape=(), dtype=string, numpy=b\"Monaco: What's Yours Is Mine\">, 'ranking': <tf.Tensor: shape=(), dtype=int64, numpy=6>}\n",
            "{'app_id': <tf.Tensor: shape=(), dtype=int64, numpy=226560>, 'title': <tf.Tensor: shape=(), dtype=string, numpy=b'Escape Dead Island'>, 'ranking': <tf.Tensor: shape=(), dtype=int64, numpy=4>}\n"
          ]
        }
      ],
      "source": [
        "# get the first rows of the games dataset in tensorflows records\n",
        "for g in games.take(5):\n",
        "  print(g)"
      ]
    },
    {
      "cell_type": "code",
      "execution_count": null,
      "metadata": {
        "colab": {
          "base_uri": "https://localhost:8080/"
        },
        "id": "lVkVV6tKz8Ez",
        "outputId": "bc674509-262c-40e9-e878-258266cd52c2"
      },
      "outputs": [
        {
          "output_type": "stream",
          "name": "stdout",
          "text": [
            "{'title': <tf.Tensor: shape=(), dtype=string, numpy=b'Dwarf Fortress'>, 'user_id': <tf.Tensor: shape=(), dtype=int64, numpy=19954>, 'ranking': <tf.Tensor: shape=(), dtype=int64, numpy=8>}\n",
            "{'title': <tf.Tensor: shape=(), dtype=string, numpy=b'Dwarf Fortress'>, 'user_id': <tf.Tensor: shape=(), dtype=int64, numpy=4993590>, 'ranking': <tf.Tensor: shape=(), dtype=int64, numpy=8>}\n",
            "{'title': <tf.Tensor: shape=(), dtype=string, numpy=b'Dwarf Fortress'>, 'user_id': <tf.Tensor: shape=(), dtype=int64, numpy=4452487>, 'ranking': <tf.Tensor: shape=(), dtype=int64, numpy=8>}\n",
            "{'title': <tf.Tensor: shape=(), dtype=string, numpy=b'Dwarf Fortress'>, 'user_id': <tf.Tensor: shape=(), dtype=int64, numpy=3602361>, 'ranking': <tf.Tensor: shape=(), dtype=int64, numpy=8>}\n",
            "{'title': <tf.Tensor: shape=(), dtype=string, numpy=b'Dwarf Fortress'>, 'user_id': <tf.Tensor: shape=(), dtype=int64, numpy=5279412>, 'ranking': <tf.Tensor: shape=(), dtype=int64, numpy=8>}\n"
          ]
        }
      ],
      "source": [
        "# get the first rows of the ratings/recommendatons dataset in tensorflows records\n",
        "for r in ratings.take(5):\n",
        "  print(r)"
      ]
    },
    {
      "cell_type": "markdown",
      "metadata": {
        "id": "3b_2A9hrO4fW"
      },
      "source": [
        "In this example, we're going to focus on the ratings data. Other tutorials explore how to use the game information data as well to improve the model quality.\n",
        "\n",
        "We keep only the `user_id`, and `title` fields in the dataset."
      ]
    },
    {
      "cell_type": "code",
      "source": [
        "# Select the basic features.\n",
        "ratings = ratings.map(lambda x: {\n",
        "    \"title\": x[\"title\"],\n",
        "    \"user_id\": x[\"user_id\"],\n",
        "    \"ranking\": x[\"ranking\"],\n",
        "})\n",
        "games = games.map(lambda x: x[\"title\"])"
      ],
      "metadata": {
        "colab": {
          "base_uri": "https://localhost:8080/"
        },
        "id": "6dPNfoiF42vl",
        "outputId": "1e4f026f-6570-40bb-e3c4-740aa9de113a"
      },
      "execution_count": null,
      "outputs": [
        {
          "output_type": "stream",
          "name": "stderr",
          "text": [
            "WARNING:tensorflow:From /usr/local/lib/python3.9/dist-packages/tensorflow/python/autograph/pyct/static_analysis/liveness.py:83: Analyzer.lamba_check (from tensorflow.python.autograph.pyct.static_analysis.liveness) is deprecated and will be removed after 2023-09-23.\n",
            "Instructions for updating:\n",
            "Lambda fuctions will be no more assumed to be used in the statement where they are used, or at least in the same block. https://github.com/tensorflow/tensorflow/issues/56089\n"
          ]
        }
      ]
    },
    {
      "cell_type": "markdown",
      "source": [
        "And repeat our preparations for building vocabularies and splitting the data into a train and a test set:"
      ],
      "metadata": {
        "id": "LxCVBUvr5LYT"
      }
    },
    {
      "cell_type": "code",
      "execution_count": null,
      "metadata": {
        "id": "rS0eDfkjnjJL"
      },
      "outputs": [],
      "source": [
        "# Randomly shuffle data and split between train and test.\n",
        "tf.random.set_seed(42)\n",
        "shuffled = ratings.shuffle(100_000, seed=42, reshuffle_each_iteration=False)\n",
        "\n",
        "train = shuffled.take(80_000)\n",
        "test = shuffled.skip(80_000).take(20_000)\n",
        "\n",
        "game_titles = games.batch(1_000)\n",
        "user_ids = ratings.batch(1_000_000).map(lambda x: x[\"user_id\"])\n",
        "\n",
        "unique_game_titles = np.unique(np.concatenate(list(game_titles)))\n",
        "unique_user_ids = np.unique(np.concatenate(list(user_ids)))"
      ]
    },
    {
      "cell_type": "markdown",
      "metadata": {
        "id": "FMrdgEQN66M1"
      },
      "source": [
        "## Implementing a model\n",
        "\n"
      ]
    },
    {
      "cell_type": "markdown",
      "metadata": {
        "id": "TWbmP2cIPKmB"
      },
      "source": [
        "## A multi-task model\n",
        "\n",
        "Description:\n",
        "\n",
        "A multitask recommendation system is a powerful approach that combines multiple tasks within a single framework to improve the accuracy and effectiveness of personalized recommendations. In this system, two key models are employed: a retrieval model and a ranking model. The retrieval model utilizes a two-tower architecture, while the ranking model focuses on generating a ranked list of recommendations. To define the importance of each model task loss, weights are assigned.\n",
        "\n",
        "The retrieval model,\n",
        "![image.png](data:image/png;base64,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)\n",
        " based on the two-tower architecture, is responsible for retrieving a set of candidate items that are likely to be of interest to the user. It takes into account user preferences and item features to generate embeddings for both users and items. The embeddings capture the latent representations of users and items in a shared space, enabling efficient retrieval of candidate items.\n",
        "\n",
        "The ranking model takes the retrieved candidate items and applies a ranking algorithm to determine their relative order of importance. This model aims to prioritize the items that are most relevant and appealing to the user. It considers various factors such as user preferences, historical interactions, and item characteristics to assign a ranking score to each candidate item.\n",
        "\n",
        "To train the multitask recommendation system, a combination of loss functions is employed. The retrieval model loss focuses on optimizing the embeddings and ensuring accurate candidate retrieval. The ranking model loss emphasizes the generation of a high-quality ranked list. The weights assigned to each loss function determine the relative importance given to each task during the training process. By adjusting these weights, the system can prioritize one task over the other based on specific objectives and requirements.\n",
        "\n",
        "The use of a multitask recommendation system with a two-tower retrieval model and a ranking model offers several benefits. It allows for more accurate and personalized recommendations by leveraging the strengths of both models. The retrieval model efficiently narrows down the set of candidate items, while the ranking model fine-tunes the order to optimize the user experience. The weights assigned to the task losses enable flexibility in defining the importance of each task based on the specific goals of the recommendation system.\n",
        "\n",
        "Overall, a multitask recommendation system with a two-tower retrieval model and a ranking model, along with the use of task loss weights, provides an effective approach for generating personalized recommendations that align with user preferences and maximize recommendation quality."
      ]
    },
    {
      "cell_type": "code",
      "execution_count": null,
      "metadata": {
        "id": "YFSkOAMgzU0K"
      },
      "outputs": [],
      "source": [
        "class MovielensModel(tfrs.models.Model):\n",
        "\n",
        "  def __init__(self, rating_weight: float, retrieval_weight: float) -> None:\n",
        "    # We take the loss weights in the constructor: this allows us to instantiate\n",
        "    # several model objects with different loss weights.\n",
        "\n",
        "    super().__init__()\n",
        "\n",
        "    embedding_dimension = 32\n",
        "\n",
        "    # User and movie models.\n",
        "    self.game_model: tf.keras.layers.Layer = tf.keras.Sequential([\n",
        "      tf.keras.layers.StringLookup(\n",
        "        vocabulary=unique_game_titles, mask_token=None),\n",
        "      tf.keras.layers.Embedding(len(unique_game_titles) + 1, embedding_dimension)\n",
        "    ])\n",
        "    self.user_model: tf.keras.layers.Layer = tf.keras.Sequential([\n",
        "      tf.keras.layers.IntegerLookup(\n",
        "        vocabulary=unique_user_ids, mask_token=None),\n",
        "      tf.keras.layers.Embedding(len(unique_user_ids) + 1, embedding_dimension)\n",
        "    ])\n",
        "\n",
        "    # A small model to take in user and movie embeddings and predict ratings.\n",
        "    # We can make this as complicated as we want as long as we output a scalar\n",
        "    # as our prediction.\n",
        "    self.rating_model = tf.keras.Sequential([\n",
        "        tf.keras.layers.Dense(256, activation=\"relu\"),\n",
        "        tf.keras.layers.Dense(128, activation=\"relu\"),\n",
        "        tf.keras.layers.Dense(1),\n",
        "    ])\n",
        "\n",
        "    # The tasks.\n",
        "    self.rating_task: tf.keras.layers.Layer = tfrs.tasks.Ranking(\n",
        "        loss=tf.keras.losses.MeanSquaredError(),\n",
        "        metrics=[tf.keras.metrics.RootMeanSquaredError()],\n",
        "    )\n",
        "    self.retrieval_task: tf.keras.layers.Layer = tfrs.tasks.Retrieval(\n",
        "        metrics=tfrs.metrics.FactorizedTopK(\n",
        "            candidates=games.batch(128).map(self.game_model)\n",
        "        )\n",
        "    )\n",
        "\n",
        "    # The loss weights.\n",
        "    self.rating_weight = rating_weight\n",
        "    self.retrieval_weight = retrieval_weight\n",
        "\n",
        "  def call(self, features: Dict[Text, tf.Tensor]) -> tf.Tensor:\n",
        "    # We pick out the user features and pass them into the user model.\n",
        "    user_embeddings = self.user_model(features[\"user_id\"])\n",
        "    # And pick out the movie features and pass them into the movie model.\n",
        "    game_embeddings = self.game_model(features[\"title\"])\n",
        "\n",
        "    return (\n",
        "        user_embeddings,\n",
        "        game_embeddings,\n",
        "        # We apply the multi-layered rating model to a concatentation of\n",
        "        # user and movie embeddings.\n",
        "        self.rating_model(\n",
        "            tf.concat([user_embeddings, game_embeddings], axis=1)\n",
        "        ),\n",
        "    )\n",
        "\n",
        "  def compute_loss(self, features: Dict[Text, tf.Tensor], training=False) -> tf.Tensor:\n",
        "\n",
        "    ratings = features.pop(\"ranking\")\n",
        "\n",
        "    user_embeddings, game_embeddings, rating_predictions = self(features)\n",
        "\n",
        "    # We compute the loss for each task.\n",
        "    rating_loss = self.rating_task(\n",
        "        labels=ratings,\n",
        "        predictions=rating_predictions,\n",
        "    )\n",
        "    retrieval_loss = self.retrieval_task(user_embeddings, game_embeddings)\n",
        "\n",
        "    # And combine them using the loss weights.\n",
        "    return (self.rating_weight * rating_loss\n",
        "            + self.retrieval_weight * retrieval_loss)"
      ]
    },
    {
      "cell_type": "markdown",
      "metadata": {
        "id": "7quSEUUHWOSc"
      },
      "source": [
        "###Rating-specialized model\n",
        "Depending on the weights we assign, the model will encode a different balance of the tasks. Let's start with a model that only considers ratings."
      ]
    },
    {
      "cell_type": "code",
      "source": [
        "model = MovielensModel(rating_weight=1.0, retrieval_weight=0.0)\n",
        "model.compile(optimizer=tf.keras.optimizers.Adagrad(0.1))"
      ],
      "metadata": {
        "id": "83jB-U_sE2wl"
      },
      "execution_count": null,
      "outputs": []
    },
    {
      "cell_type": "code",
      "source": [
        "cached_train = train.shuffle(100_000).batch(8192).cache()\n",
        "cached_test = test.batch(4096).cache()"
      ],
      "metadata": {
        "id": "s1MyzmOrFB0t"
      },
      "execution_count": null,
      "outputs": []
    },
    {
      "cell_type": "code",
      "source": [
        "model.fit(cached_train, epochs=3)\n",
        "metrics = model.evaluate(cached_test, return_dict=True)\n",
        "\n",
        "print(f\"Retrieval top-100 accuracy: {metrics['factorized_top_k/top_100_categorical_accuracy']:.3f}.\")\n",
        "print(f\"Ranking RMSE: {metrics['root_mean_squared_error']:.3f}.\")"
      ],
      "metadata": {
        "colab": {
          "base_uri": "https://localhost:8080/"
        },
        "id": "RJVQOQ58FjT9",
        "outputId": "24a55324-8a0b-42f3-83d8-d3cec5870320"
      },
      "execution_count": null,
      "outputs": [
        {
          "output_type": "stream",
          "name": "stdout",
          "text": [
            "Epoch 1/3\n"
          ]
        }
      ]
    },
    {
      "cell_type": "markdown",
      "metadata": {
        "id": "yPYd9LtE-4Fm"
      },
      "source": [
        "### Retrieval-specialized model\n",
        "\n",
        "Let's now try a model that focuses on retrieval only."
      ]
    },
    {
      "cell_type": "code",
      "source": [
        "model = MovielensModel(rating_weight=0.0, retrieval_weight=1.0)\n",
        "model.compile(optimizer=tf.keras.optimizers.Adagrad(0.1))"
      ],
      "metadata": {
        "id": "8y1k8nPkPmuh"
      },
      "execution_count": null,
      "outputs": []
    },
    {
      "cell_type": "code",
      "source": [
        "cached_train = train.shuffle(100_000).batch(8192).cache()\n",
        "cached_test = test.batch(4096).cache()"
      ],
      "metadata": {
        "id": "tcnVB2_VLkAr"
      },
      "execution_count": null,
      "outputs": []
    },
    {
      "cell_type": "code",
      "source": [
        "model.fit(cached_train, epochs=3)\n",
        "metrics = model.evaluate(cached_test, return_dict=True)\n",
        "\n",
        "print(f\"Retrieval top-100 accuracy: {metrics['factorized_top_k/top_100_categorical_accuracy']:.3f}.\")\n",
        "print(f\"Ranking RMSE: {metrics['root_mean_squared_error']:.3f}.\")"
      ],
      "metadata": {
        "id": "f8V6dNJuP_yn",
        "outputId": "bedec595-5957-441a-a56e-c34b6486f2bf",
        "colab": {
          "base_uri": "https://localhost:8080/"
        }
      },
      "execution_count": null,
      "outputs": [
        {
          "output_type": "stream",
          "name": "stdout",
          "text": [
            "Epoch 1/3\n",
            "10/10 [==============================] - 460s 45s/step - root_mean_squared_error: 5.8455 - factorized_top_k/top_1_categorical_accuracy: 0.0555 - factorized_top_k/top_5_categorical_accuracy: 0.1330 - factorized_top_k/top_10_categorical_accuracy: 0.1452 - factorized_top_k/top_50_categorical_accuracy: 0.1746 - factorized_top_k/top_100_categorical_accuracy: 0.1889 - loss: 70369.3253 - regularization_loss: 0.0000e+00 - total_loss: 70369.3253\n",
            "Epoch 2/3\n",
            "10/10 [==============================] - 455s 46s/step - root_mean_squared_error: 5.7697 - factorized_top_k/top_1_categorical_accuracy: 0.1302 - factorized_top_k/top_5_categorical_accuracy: 0.8551 - factorized_top_k/top_10_categorical_accuracy: 0.8586 - factorized_top_k/top_50_categorical_accuracy: 0.8656 - factorized_top_k/top_100_categorical_accuracy: 0.8691 - loss: 69022.9737 - regularization_loss: 0.0000e+00 - total_loss: 69022.9737\n",
            "Epoch 3/3\n",
            "10/10 [==============================] - 450s 45s/step - root_mean_squared_error: 5.6350 - factorized_top_k/top_1_categorical_accuracy: 0.1210 - factorized_top_k/top_5_categorical_accuracy: 0.9966 - factorized_top_k/top_10_categorical_accuracy: 0.9967 - factorized_top_k/top_50_categorical_accuracy: 0.9968 - factorized_top_k/top_100_categorical_accuracy: 0.9968 - loss: 63494.8171 - regularization_loss: 0.0000e+00 - total_loss: 63494.8171\n",
            "5/5 [==============================] - 115s 23s/step - root_mean_squared_error: 6.4659 - factorized_top_k/top_1_categorical_accuracy: 0.1225 - factorized_top_k/top_5_categorical_accuracy: 0.4362 - factorized_top_k/top_10_categorical_accuracy: 0.4396 - factorized_top_k/top_50_categorical_accuracy: 0.4477 - factorized_top_k/top_100_categorical_accuracy: 0.4510 - loss: 32686.8301 - regularization_loss: 0.0000e+00 - total_loss: 32686.8301\n",
            "Retrieval top-100 accuracy: 0.451.\n",
            "Ranking RMSE: 6.466.\n"
          ]
        }
      ]
    },
    {
      "cell_type": "markdown",
      "source": [
        "## Making predictions on retrieval specialized model\n",
        "\n",
        "Now that we have the multitask model, we would like to be able to make predictions. We can use the `tfrs.layers.factorized_top_k.BruteForce` layer to do this."
      ],
      "metadata": {
        "id": "vdenD7TVHnWS"
      }
    },
    {
      "cell_type": "code",
      "source": [
        "# Use brute-force search to set up retrieval using the trained representations.\n",
        "index = tfrs.layers.factorized_top_k.BruteForce(model.user_model)\n",
        "index.index_from_dataset(\n",
        "    games.batch(100).map(lambda title: (title, model.game_model(title))))\n",
        "\n",
        "# Get some recommendations.\n",
        "_, titles = index(np.array([19954]))\n",
        "print(f\"Top 10 recommendations for user 19954: {titles[0, :10]}\")"
      ],
      "metadata": {
        "id": "BlwGCPyXHq8j",
        "colab": {
          "base_uri": "https://localhost:8080/"
        },
        "outputId": "7d825cff-c303-49cb-83b1-f16eb74d1c94"
      },
      "execution_count": null,
      "outputs": [
        {
          "output_type": "stream",
          "name": "stdout",
          "text": [
            "Top 10 recommendations for user 19954: [b'Dwarf Fortress' b'President Trump The Way In Uganda' b'Frisky Business'\n",
            " b'Ion Assault' b'Monster Maze VR' b'Rolled Out!' b'Myrne: The Quest'\n",
            " b'Guns n Zombies' b\"Pajama Sam: No Need to Hide When It's Dark Outside\"\n",
            " b'Z. Year One']\n"
          ]
        }
      ]
    },
    {
      "cell_type": "markdown",
      "source": [
        "### Joint model\n",
        "\n",
        "Let's now train a model that assigns positive weights to both tasks."
      ],
      "metadata": {
        "id": "il3qF_8qZmWO"
      }
    },
    {
      "cell_type": "code",
      "source": [
        "model = MovielensModel(rating_weight=1.0, retrieval_weight=1.0)\n",
        "model.compile(optimizer=tf.keras.optimizers.Adagrad(0.1))"
      ],
      "metadata": {
        "id": "Edj_aKc7YBsG"
      },
      "execution_count": null,
      "outputs": []
    },
    {
      "cell_type": "code",
      "source": [
        "cached_train = train.shuffle(100_000).batch(8192).cache()\n",
        "cached_test = test.batch(4096).cache()"
      ],
      "metadata": {
        "id": "rw_6boj_LmBz"
      },
      "execution_count": null,
      "outputs": []
    },
    {
      "cell_type": "code",
      "source": [
        "model.fit(cached_train, epochs=3)\n",
        "metrics = model.evaluate(cached_test, return_dict=True)\n",
        "\n",
        "print(f\"Retrieval top-100 accuracy: {metrics['factorized_top_k/top_100_categorical_accuracy']:.3f}.\")\n",
        "print(f\"Ranking RMSE: {metrics['root_mean_squared_error']:.3f}.\")"
      ],
      "metadata": {
        "id": "-58ZWG7_bQPA",
        "outputId": "dd6de533-694f-4760-eb3a-e1d9a8ba561c",
        "colab": {
          "base_uri": "https://localhost:8080/"
        }
      },
      "execution_count": null,
      "outputs": [
        {
          "output_type": "stream",
          "name": "stdout",
          "text": [
            "Epoch 1/3\n",
            "10/10 [==============================] - 474s 46s/step - root_mean_squared_error: 4.0085 - factorized_top_k/top_1_categorical_accuracy: 0.0613 - factorized_top_k/top_5_categorical_accuracy: 0.1550 - factorized_top_k/top_10_categorical_accuracy: 0.1670 - factorized_top_k/top_50_categorical_accuracy: 0.1955 - factorized_top_k/top_100_categorical_accuracy: 0.2097 - loss: 70383.3906 - regularization_loss: 0.0000e+00 - total_loss: 70383.3906\n",
            "Epoch 2/3\n",
            "10/10 [==============================] - 462s 46s/step - root_mean_squared_error: 1.6126 - factorized_top_k/top_1_categorical_accuracy: 0.1343 - factorized_top_k/top_5_categorical_accuracy: 0.8771 - factorized_top_k/top_10_categorical_accuracy: 0.8798 - factorized_top_k/top_50_categorical_accuracy: 0.8859 - factorized_top_k/top_100_categorical_accuracy: 0.8887 - loss: 68826.9602 - regularization_loss: 0.0000e+00 - total_loss: 68826.9602\n",
            "Epoch 3/3\n",
            "10/10 [==============================] - 459s 46s/step - root_mean_squared_error: 1.8046 - factorized_top_k/top_1_categorical_accuracy: 0.1415 - factorized_top_k/top_5_categorical_accuracy: 0.9977 - factorized_top_k/top_10_categorical_accuracy: 0.9978 - factorized_top_k/top_50_categorical_accuracy: 0.9979 - factorized_top_k/top_100_categorical_accuracy: 0.9979 - loss: 63052.2425 - regularization_loss: 0.0000e+00 - total_loss: 63052.2425\n",
            "5/5 [==============================] - 120s 24s/step - root_mean_squared_error: 0.8996 - factorized_top_k/top_1_categorical_accuracy: 0.1296 - factorized_top_k/top_5_categorical_accuracy: 0.4439 - factorized_top_k/top_10_categorical_accuracy: 0.4480 - factorized_top_k/top_50_categorical_accuracy: 0.4559 - factorized_top_k/top_100_categorical_accuracy: 0.4593 - loss: 32690.4258 - regularization_loss: 0.0000e+00 - total_loss: 32690.4258\n",
            "Retrieval top-100 accuracy: 0.459.\n",
            "Ranking RMSE: 0.900.\n"
          ]
        }
      ]
    },
    {
      "cell_type": "markdown",
      "source": [
        "### Making ranking prediction from multitask model\n",
        "\n",
        "We can use the trained multitask model to get trained user and movie embeddings, as well as the predicted rating:"
      ],
      "metadata": {
        "id": "H2fQfiNDGqiE"
      }
    },
    {
      "cell_type": "code",
      "source": [
        "trained_games_embeddings, trained_user_embeddings, trained_rating_predictions = model({\n",
        "      \"user_id\": np.array([19954]),\n",
        "      \"title\": np.array([\"Ion Assault\"])\n",
        "  })\n",
        "print(\"Predicted rating:\")\n",
        "print(trained_rating_predictions)"
      ],
      "metadata": {
        "id": "0PVsyTXQHFBd",
        "colab": {
          "base_uri": "https://localhost:8080/"
        },
        "outputId": "667817f3-f2e9-4baf-f12f-449756433c38"
      },
      "execution_count": null,
      "outputs": [
        {
          "output_type": "stream",
          "name": "stdout",
          "text": [
            "Predicted rating:\n",
            "tf.Tensor([[3.5993714]], shape=(1, 1), dtype=float32)\n"
          ]
        }
      ]
    }
  ],
  "metadata": {
    "colab": {
      "provenance": [],
      "authorship_tag": "ABX9TyOf7pL8d/vS3G6ABK9DPKAD",
      "include_colab_link": true
    },
    "kernelspec": {
      "display_name": "Python 3",
      "name": "python3"
    },
    "language_info": {
      "name": "python"
    }
  },
  "nbformat": 4,
  "nbformat_minor": 0
}