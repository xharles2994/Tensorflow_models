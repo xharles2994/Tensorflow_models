{
  "nbformat": 4,
  "nbformat_minor": 0,
  "metadata": {
    "colab": {
      "provenance": [],
      "authorship_tag": "ABX9TyMZwvOs+qvMNjr+IWWJ1l65",
      "include_colab_link": true
    },
    "kernelspec": {
      "name": "python3",
      "display_name": "Python 3"
    },
    "language_info": {
      "name": "python"
    }
  },
  "cells": [
    {
      "cell_type": "markdown",
      "metadata": {
        "id": "view-in-github",
        "colab_type": "text"
      },
      "source": [
        "<a href=\"https://colab.research.google.com/github/xharles2994/Tensorflow_models/blob/main/Retrieval_Model_For_Games_recommendation_CV.ipynb\" target=\"_parent\"><img src=\"https://colab.research.google.com/assets/colab-badge.svg\" alt=\"Open In Colab\"/></a>"
      ]
    },
    {
      "cell_type": "markdown",
      "source": [
        "#Retrieval_Model_For_Games_recommendation_CV.ipynb"
      ],
      "metadata": {
        "id": "OQv1tRuh1mLN"
      }
    },
    {
      "cell_type": "markdown",
      "source": [
        "##problem Statement:\n",
        "The Steam Store, a popular digital distribution platform for video games, provides users with a vast selection of games to choose from. However, with such a large number of games available, it becomes challenging for users to discover games that align with their preferences and interests. The existing recommendation system on the Steam Store lacks the ability to effectively combine retrieval and ranking techniques to provide personalized game recommendations. Therefore, there is a need to develop a combined retrieval and ranking system for game recommendations on the Steam Store using a two-tower model with TensorFlow Recommenders.\n",
        "\n",
        "##Objective:\n",
        "The objective of this project is to design and implement a game recommendation system for the Steam Store that leverages the power of TensorFlow Recommenders and utilizes a two-tower model. The system should address the limitations of the existing recommendation system and provide users with personalized and relevant game recommendations based on their preferences. The specific objectives of the project are as follows:\n",
        "\n",
        "1. Data Preparation: Collect and preprocess the relevant data, including user preferences, game metadata, and historical interactions, to create a suitable dataset for training and evaluation.\n",
        "\n",
        "2. Model Development: Build a combined retrieval and ranking model using a two-tower architecture with TensorFlow Recommenders. The two-tower model should incorporate both user preferences and game features to generate personalized recommendations.\n",
        "\n",
        "3. Training and Evaluation: Train the two-tower model using the prepared dataset and evaluate its performance using appropriate evaluation metrics. Fine-tune the model to optimize recommendation accuracy and relevance.\n",
        "\n",
        "4. Integration with Steam Store: Integrate the developed recommendation system with the Steam Store platform, enabling users to receive personalized game recommendations based on their preferences.\n",
        "\n",
        "5. User Interface: Design and develop a user-friendly interface that allows users to provide feedback on recommended games, explore additional recommendations, and customize their preferences.\n",
        "\n",
        "6. Performance Optimization: Optimize the recommendation system for scalability and efficiency to handle a large number of users and games, ensuring real-time recommendations with minimal latency.\n",
        "\n",
        "By achieving these objectives, the combined retrieval and ranking system utilizing a two-tower model will enhance the game discovery experience on the Steam Store, providing users with tailored recommendations that match their interests and preferences."
      ],
      "metadata": {
        "id": "WgHsgbIl2Hs2"
      }
    },
    {
      "cell_type": "markdown",
      "source": [
        "###Imports\n",
        "Let's include our imports here. Here we import our tensorflow and python libaries to be called in the project"
      ],
      "metadata": {
        "id": "X9KiqjZckxiK"
      }
    },
    {
      "cell_type": "code",
      "execution_count": null,
      "metadata": {
        "id": "MCAy-kHQnYok",
        "colab": {
          "base_uri": "https://localhost:8080/"
        },
        "outputId": "9f4745fc-19cb-407d-af0b-0ca9662de1b8"
      },
      "outputs": [
        {
          "output_type": "stream",
          "name": "stdout",
          "text": [
            "\u001b[2K     \u001b[90m━━━━━━━━━━━━━━━━━━━━━━━━━━━━━━━━━━━━━━━━\u001b[0m \u001b[32m96.2/96.2 KB\u001b[0m \u001b[31m1.7 MB/s\u001b[0m eta \u001b[36m0:00:00\u001b[0m\n",
            "\u001b[2K     \u001b[90m━━━━━━━━━━━━━━━━━━━━━━━━━━━━━━━━━━━━━━━━\u001b[0m \u001b[32m10.5/10.5 MB\u001b[0m \u001b[31m17.1 MB/s\u001b[0m eta \u001b[36m0:00:00\u001b[0m\n",
            "\u001b[?25h"
          ]
        }
      ],
      "source": [
        "!pip install -q tensorflow-recommenders\n",
        "!pip install -q --upgrade tensorflow-datasets\n",
        "!pip install -q scann"
      ]
    },
    {
      "cell_type": "code",
      "source": [
        "import os\n",
        "import pprint\n",
        "import tempfile\n",
        "\n",
        "from typing import Dict, Text\n",
        "\n",
        "import numpy as np\n",
        "import tensorflow as tf\n",
        "import tensorflow_datasets as tfds"
      ],
      "metadata": {
        "id": "wCKKW-NnoGin"
      },
      "execution_count": null,
      "outputs": []
    },
    {
      "cell_type": "code",
      "source": [
        "import tensorflow_recommenders as tfrs"
      ],
      "metadata": {
        "id": "4ySVMEGOoQDn"
      },
      "execution_count": null,
      "outputs": []
    },
    {
      "cell_type": "markdown",
      "source": [
        "#About the dataset\n",
        "https://www.kaggle.com/datasets/antonkozyriev/game-recommendations-on-steam\n",
        "\n",
        "##Context\n",
        "The dataset contains cleaned and preprocessed 10M+ samples of user recommendations (reviews) from a Steam Store - a leading online platform for purchasing and downloading video games, DLC, and other gaming-related content. Additionally, it contains detailed information about games and add-ons.\n",
        "The dataset consists of three main entities:\n",
        "\n",
        "##Content\n",
        "Games.csv - a table of games (or add-ons) information on ratings, pricing in US dollars $, release date, etc. A piece of extra non-tabular details on games, such as descriptions and tags, is in a metadata file;\n",
        "\n",
        "Users.csv - a table of user profiles' public information: the number of purchased products and reviews published;\n",
        "\n",
        "Recommendations.csv - a table of user reviews: whether the user recommends a product. The table represents a many-many relation between a game entity and a user entity.\n",
        "\n",
        "\n",
        "\n",
        "#Acknowledgement - The dataset was collected from Steam Official Store. All rights on the dataset thumbnail image belong to the Valve Corporation."
      ],
      "metadata": {
        "id": "t2sVB5IJmFBa"
      }
    },
    {
      "cell_type": "markdown",
      "source": [
        "#Preparing the dataset\n",
        "Let's first have a look at the data."
      ],
      "metadata": {
        "id": "nO9Jtfc9sSF4"
      }
    },
    {
      "cell_type": "code",
      "source": [
        "from google.colab import drive\n",
        "drive.mount('/content/drive')"
      ],
      "metadata": {
        "colab": {
          "base_uri": "https://localhost:8080/"
        },
        "id": "JALynnQbrNha",
        "outputId": "ee22a445-72a1-465a-eb5d-e8c45d51b747"
      },
      "execution_count": null,
      "outputs": [
        {
          "output_type": "stream",
          "name": "stdout",
          "text": [
            "Drive already mounted at /content/drive; to attempt to forcibly remount, call drive.mount(\"/content/drive\", force_remount=True).\n"
          ]
        }
      ]
    },
    {
      "cell_type": "code",
      "source": [
        "import pandas as pd\n",
        "\n",
        "# load the recommenders data\n",
        "\n",
        "columns = ['app_id', 'helpful', 'funny', 'date', 'is_recommended', 'user_id', 'review_id']\n",
        "ratings = pd.read_csv('/content/drive/MyDrive/PORTFOLIO/Dataset/Game-recommendation_Retrieval/recommendations.csv')\n",
        "ratings.head()"
      ],
      "metadata": {
        "colab": {
          "base_uri": "https://localhost:8080/",
          "height": 206
        },
        "id": "_x9GH1IToTUM",
        "outputId": "a3b6aeb8-08a7-4f51-bcec-66208c23311a"
      },
      "execution_count": null,
      "outputs": [
        {
          "output_type": "execute_result",
          "data": {
            "text/plain": [
              "    app_id  helpful  funny        date  is_recommended  hours  user_id  \\\n",
              "0   975370        0      0  2022-12-12            True   36.3    19954   \n",
              "1   304390        4      0  2017-02-17           False   11.5     1098   \n",
              "2  1085660        2      0  2019-11-17            True  336.5    91207   \n",
              "3   703080        0      0  2022-09-23            True   27.4    93054   \n",
              "4   526870        0      0  2021-01-10            True    7.9     9106   \n",
              "\n",
              "   review_id  \n",
              "0          0  \n",
              "1          1  \n",
              "2          2  \n",
              "3          3  \n",
              "4          4  "
            ],
            "text/html": [
              "\n",
              "  <div id=\"df-bb3f9f76-25b8-4272-995a-5bc9c8599cee\">\n",
              "    <div class=\"colab-df-container\">\n",
              "      <div>\n",
              "<style scoped>\n",
              "    .dataframe tbody tr th:only-of-type {\n",
              "        vertical-align: middle;\n",
              "    }\n",
              "\n",
              "    .dataframe tbody tr th {\n",
              "        vertical-align: top;\n",
              "    }\n",
              "\n",
              "    .dataframe thead th {\n",
              "        text-align: right;\n",
              "    }\n",
              "</style>\n",
              "<table border=\"1\" class=\"dataframe\">\n",
              "  <thead>\n",
              "    <tr style=\"text-align: right;\">\n",
              "      <th></th>\n",
              "      <th>app_id</th>\n",
              "      <th>helpful</th>\n",
              "      <th>funny</th>\n",
              "      <th>date</th>\n",
              "      <th>is_recommended</th>\n",
              "      <th>hours</th>\n",
              "      <th>user_id</th>\n",
              "      <th>review_id</th>\n",
              "    </tr>\n",
              "  </thead>\n",
              "  <tbody>\n",
              "    <tr>\n",
              "      <th>0</th>\n",
              "      <td>975370</td>\n",
              "      <td>0</td>\n",
              "      <td>0</td>\n",
              "      <td>2022-12-12</td>\n",
              "      <td>True</td>\n",
              "      <td>36.3</td>\n",
              "      <td>19954</td>\n",
              "      <td>0</td>\n",
              "    </tr>\n",
              "    <tr>\n",
              "      <th>1</th>\n",
              "      <td>304390</td>\n",
              "      <td>4</td>\n",
              "      <td>0</td>\n",
              "      <td>2017-02-17</td>\n",
              "      <td>False</td>\n",
              "      <td>11.5</td>\n",
              "      <td>1098</td>\n",
              "      <td>1</td>\n",
              "    </tr>\n",
              "    <tr>\n",
              "      <th>2</th>\n",
              "      <td>1085660</td>\n",
              "      <td>2</td>\n",
              "      <td>0</td>\n",
              "      <td>2019-11-17</td>\n",
              "      <td>True</td>\n",
              "      <td>336.5</td>\n",
              "      <td>91207</td>\n",
              "      <td>2</td>\n",
              "    </tr>\n",
              "    <tr>\n",
              "      <th>3</th>\n",
              "      <td>703080</td>\n",
              "      <td>0</td>\n",
              "      <td>0</td>\n",
              "      <td>2022-09-23</td>\n",
              "      <td>True</td>\n",
              "      <td>27.4</td>\n",
              "      <td>93054</td>\n",
              "      <td>3</td>\n",
              "    </tr>\n",
              "    <tr>\n",
              "      <th>4</th>\n",
              "      <td>526870</td>\n",
              "      <td>0</td>\n",
              "      <td>0</td>\n",
              "      <td>2021-01-10</td>\n",
              "      <td>True</td>\n",
              "      <td>7.9</td>\n",
              "      <td>9106</td>\n",
              "      <td>4</td>\n",
              "    </tr>\n",
              "  </tbody>\n",
              "</table>\n",
              "</div>\n",
              "      <button class=\"colab-df-convert\" onclick=\"convertToInteractive('df-bb3f9f76-25b8-4272-995a-5bc9c8599cee')\"\n",
              "              title=\"Convert this dataframe to an interactive table.\"\n",
              "              style=\"display:none;\">\n",
              "        \n",
              "  <svg xmlns=\"http://www.w3.org/2000/svg\" height=\"24px\"viewBox=\"0 0 24 24\"\n",
              "       width=\"24px\">\n",
              "    <path d=\"M0 0h24v24H0V0z\" fill=\"none\"/>\n",
              "    <path d=\"M18.56 5.44l.94 2.06.94-2.06 2.06-.94-2.06-.94-.94-2.06-.94 2.06-2.06.94zm-11 1L8.5 8.5l.94-2.06 2.06-.94-2.06-.94L8.5 2.5l-.94 2.06-2.06.94zm10 10l.94 2.06.94-2.06 2.06-.94-2.06-.94-.94-2.06-.94 2.06-2.06.94z\"/><path d=\"M17.41 7.96l-1.37-1.37c-.4-.4-.92-.59-1.43-.59-.52 0-1.04.2-1.43.59L10.3 9.45l-7.72 7.72c-.78.78-.78 2.05 0 2.83L4 21.41c.39.39.9.59 1.41.59.51 0 1.02-.2 1.41-.59l7.78-7.78 2.81-2.81c.8-.78.8-2.07 0-2.86zM5.41 20L4 18.59l7.72-7.72 1.47 1.35L5.41 20z\"/>\n",
              "  </svg>\n",
              "      </button>\n",
              "      \n",
              "  <style>\n",
              "    .colab-df-container {\n",
              "      display:flex;\n",
              "      flex-wrap:wrap;\n",
              "      gap: 12px;\n",
              "    }\n",
              "\n",
              "    .colab-df-convert {\n",
              "      background-color: #E8F0FE;\n",
              "      border: none;\n",
              "      border-radius: 50%;\n",
              "      cursor: pointer;\n",
              "      display: none;\n",
              "      fill: #1967D2;\n",
              "      height: 32px;\n",
              "      padding: 0 0 0 0;\n",
              "      width: 32px;\n",
              "    }\n",
              "\n",
              "    .colab-df-convert:hover {\n",
              "      background-color: #E2EBFA;\n",
              "      box-shadow: 0px 1px 2px rgba(60, 64, 67, 0.3), 0px 1px 3px 1px rgba(60, 64, 67, 0.15);\n",
              "      fill: #174EA6;\n",
              "    }\n",
              "\n",
              "    [theme=dark] .colab-df-convert {\n",
              "      background-color: #3B4455;\n",
              "      fill: #D2E3FC;\n",
              "    }\n",
              "\n",
              "    [theme=dark] .colab-df-convert:hover {\n",
              "      background-color: #434B5C;\n",
              "      box-shadow: 0px 1px 3px 1px rgba(0, 0, 0, 0.15);\n",
              "      filter: drop-shadow(0px 1px 2px rgba(0, 0, 0, 0.3));\n",
              "      fill: #FFFFFF;\n",
              "    }\n",
              "  </style>\n",
              "\n",
              "      <script>\n",
              "        const buttonEl =\n",
              "          document.querySelector('#df-bb3f9f76-25b8-4272-995a-5bc9c8599cee button.colab-df-convert');\n",
              "        buttonEl.style.display =\n",
              "          google.colab.kernel.accessAllowed ? 'block' : 'none';\n",
              "\n",
              "        async function convertToInteractive(key) {\n",
              "          const element = document.querySelector('#df-bb3f9f76-25b8-4272-995a-5bc9c8599cee');\n",
              "          const dataTable =\n",
              "            await google.colab.kernel.invokeFunction('convertToInteractive',\n",
              "                                                     [key], {});\n",
              "          if (!dataTable) return;\n",
              "\n",
              "          const docLinkHtml = 'Like what you see? Visit the ' +\n",
              "            '<a target=\"_blank\" href=https://colab.research.google.com/notebooks/data_table.ipynb>data table notebook</a>'\n",
              "            + ' to learn more about interactive tables.';\n",
              "          element.innerHTML = '';\n",
              "          dataTable['output_type'] = 'display_data';\n",
              "          await google.colab.output.renderOutput(dataTable, element);\n",
              "          const docLink = document.createElement('div');\n",
              "          docLink.innerHTML = docLinkHtml;\n",
              "          element.appendChild(docLink);\n",
              "        }\n",
              "      </script>\n",
              "    </div>\n",
              "  </div>\n",
              "  "
            ]
          },
          "metadata": {},
          "execution_count": 8
        }
      ]
    },
    {
      "cell_type": "code",
      "source": [
        "# load the games data\n",
        "\n",
        "columns = ['app_id', 'title', 'date_release', 'win', 'mac', 'linux', 'rating', 'positive_ratio',\n",
        "          'user_reviews', 'price_final', 'price_original', 'discount', 'steam_deck']\n",
        "\n",
        "games = pd.read_csv('/content/drive/MyDrive/PORTFOLIO/Dataset/Game-recommendation_Retrieval/games.csv')\n",
        "games = games[['app_id', 'title']]\n",
        "games.head()"
      ],
      "metadata": {
        "colab": {
          "base_uri": "https://localhost:8080/",
          "height": 206
        },
        "id": "80UW_ndbtOBn",
        "outputId": "58e3b033-ba68-4ee7-d3b3-91993ebe713d"
      },
      "execution_count": null,
      "outputs": [
        {
          "output_type": "execute_result",
          "data": {
            "text/plain": [
              "   app_id                              title\n",
              "0   10090         Call of Duty: World at War\n",
              "1   13500  Prince of Persia: Warrior Within™\n",
              "2   22364            BRINK: Agents of Change\n",
              "3  113020       Monaco: What's Yours Is Mine\n",
              "4  226560                 Escape Dead Island"
            ],
            "text/html": [
              "\n",
              "  <div id=\"df-36f0e956-96be-41a7-af2b-b8ecabb693dd\">\n",
              "    <div class=\"colab-df-container\">\n",
              "      <div>\n",
              "<style scoped>\n",
              "    .dataframe tbody tr th:only-of-type {\n",
              "        vertical-align: middle;\n",
              "    }\n",
              "\n",
              "    .dataframe tbody tr th {\n",
              "        vertical-align: top;\n",
              "    }\n",
              "\n",
              "    .dataframe thead th {\n",
              "        text-align: right;\n",
              "    }\n",
              "</style>\n",
              "<table border=\"1\" class=\"dataframe\">\n",
              "  <thead>\n",
              "    <tr style=\"text-align: right;\">\n",
              "      <th></th>\n",
              "      <th>app_id</th>\n",
              "      <th>title</th>\n",
              "    </tr>\n",
              "  </thead>\n",
              "  <tbody>\n",
              "    <tr>\n",
              "      <th>0</th>\n",
              "      <td>10090</td>\n",
              "      <td>Call of Duty: World at War</td>\n",
              "    </tr>\n",
              "    <tr>\n",
              "      <th>1</th>\n",
              "      <td>13500</td>\n",
              "      <td>Prince of Persia: Warrior Within™</td>\n",
              "    </tr>\n",
              "    <tr>\n",
              "      <th>2</th>\n",
              "      <td>22364</td>\n",
              "      <td>BRINK: Agents of Change</td>\n",
              "    </tr>\n",
              "    <tr>\n",
              "      <th>3</th>\n",
              "      <td>113020</td>\n",
              "      <td>Monaco: What's Yours Is Mine</td>\n",
              "    </tr>\n",
              "    <tr>\n",
              "      <th>4</th>\n",
              "      <td>226560</td>\n",
              "      <td>Escape Dead Island</td>\n",
              "    </tr>\n",
              "  </tbody>\n",
              "</table>\n",
              "</div>\n",
              "      <button class=\"colab-df-convert\" onclick=\"convertToInteractive('df-36f0e956-96be-41a7-af2b-b8ecabb693dd')\"\n",
              "              title=\"Convert this dataframe to an interactive table.\"\n",
              "              style=\"display:none;\">\n",
              "        \n",
              "  <svg xmlns=\"http://www.w3.org/2000/svg\" height=\"24px\"viewBox=\"0 0 24 24\"\n",
              "       width=\"24px\">\n",
              "    <path d=\"M0 0h24v24H0V0z\" fill=\"none\"/>\n",
              "    <path d=\"M18.56 5.44l.94 2.06.94-2.06 2.06-.94-2.06-.94-.94-2.06-.94 2.06-2.06.94zm-11 1L8.5 8.5l.94-2.06 2.06-.94-2.06-.94L8.5 2.5l-.94 2.06-2.06.94zm10 10l.94 2.06.94-2.06 2.06-.94-2.06-.94-.94-2.06-.94 2.06-2.06.94z\"/><path d=\"M17.41 7.96l-1.37-1.37c-.4-.4-.92-.59-1.43-.59-.52 0-1.04.2-1.43.59L10.3 9.45l-7.72 7.72c-.78.78-.78 2.05 0 2.83L4 21.41c.39.39.9.59 1.41.59.51 0 1.02-.2 1.41-.59l7.78-7.78 2.81-2.81c.8-.78.8-2.07 0-2.86zM5.41 20L4 18.59l7.72-7.72 1.47 1.35L5.41 20z\"/>\n",
              "  </svg>\n",
              "      </button>\n",
              "      \n",
              "  <style>\n",
              "    .colab-df-container {\n",
              "      display:flex;\n",
              "      flex-wrap:wrap;\n",
              "      gap: 12px;\n",
              "    }\n",
              "\n",
              "    .colab-df-convert {\n",
              "      background-color: #E8F0FE;\n",
              "      border: none;\n",
              "      border-radius: 50%;\n",
              "      cursor: pointer;\n",
              "      display: none;\n",
              "      fill: #1967D2;\n",
              "      height: 32px;\n",
              "      padding: 0 0 0 0;\n",
              "      width: 32px;\n",
              "    }\n",
              "\n",
              "    .colab-df-convert:hover {\n",
              "      background-color: #E2EBFA;\n",
              "      box-shadow: 0px 1px 2px rgba(60, 64, 67, 0.3), 0px 1px 3px 1px rgba(60, 64, 67, 0.15);\n",
              "      fill: #174EA6;\n",
              "    }\n",
              "\n",
              "    [theme=dark] .colab-df-convert {\n",
              "      background-color: #3B4455;\n",
              "      fill: #D2E3FC;\n",
              "    }\n",
              "\n",
              "    [theme=dark] .colab-df-convert:hover {\n",
              "      background-color: #434B5C;\n",
              "      box-shadow: 0px 1px 3px 1px rgba(0, 0, 0, 0.15);\n",
              "      filter: drop-shadow(0px 1px 2px rgba(0, 0, 0, 0.3));\n",
              "      fill: #FFFFFF;\n",
              "    }\n",
              "  </style>\n",
              "\n",
              "      <script>\n",
              "        const buttonEl =\n",
              "          document.querySelector('#df-36f0e956-96be-41a7-af2b-b8ecabb693dd button.colab-df-convert');\n",
              "        buttonEl.style.display =\n",
              "          google.colab.kernel.accessAllowed ? 'block' : 'none';\n",
              "\n",
              "        async function convertToInteractive(key) {\n",
              "          const element = document.querySelector('#df-36f0e956-96be-41a7-af2b-b8ecabb693dd');\n",
              "          const dataTable =\n",
              "            await google.colab.kernel.invokeFunction('convertToInteractive',\n",
              "                                                     [key], {});\n",
              "          if (!dataTable) return;\n",
              "\n",
              "          const docLinkHtml = 'Like what you see? Visit the ' +\n",
              "            '<a target=\"_blank\" href=https://colab.research.google.com/notebooks/data_table.ipynb>data table notebook</a>'\n",
              "            + ' to learn more about interactive tables.';\n",
              "          element.innerHTML = '';\n",
              "          dataTable['output_type'] = 'display_data';\n",
              "          await google.colab.output.renderOutput(dataTable, element);\n",
              "          const docLink = document.createElement('div');\n",
              "          docLink.innerHTML = docLinkHtml;\n",
              "          element.appendChild(docLink);\n",
              "        }\n",
              "      </script>\n",
              "    </div>\n",
              "  </div>\n",
              "  "
            ]
          },
          "metadata": {},
          "execution_count": 9
        }
      ]
    },
    {
      "cell_type": "code",
      "source": [
        "# join the ratings with the games\n",
        "\n",
        "ratings = pd.merge(ratings, games, on='app_id')\n",
        "\n",
        "\n",
        "# keep only the user id and the games title columns\n",
        "\n",
        "ratings = ratings[['title', 'user_id']].reset_index(drop=True)\n",
        "\n",
        "ratings"
      ],
      "metadata": {
        "colab": {
          "base_uri": "https://localhost:8080/",
          "height": 424
        },
        "id": "Qhbj-puSwSJi",
        "outputId": "833548c0-6367-4dbc-a3d5-7419229b2af2"
      },
      "execution_count": null,
      "outputs": [
        {
          "output_type": "execute_result",
          "data": {
            "text/plain": [
              "                           title  user_id\n",
              "0                 Dwarf Fortress    19954\n",
              "1                 Dwarf Fortress  4993590\n",
              "2                 Dwarf Fortress  4452487\n",
              "3                 Dwarf Fortress  3602361\n",
              "4                 Dwarf Fortress  5279412\n",
              "...                          ...      ...\n",
              "10072265  Paragon: The Overprime   373561\n",
              "10072266  Paragon: The Overprime  2165144\n",
              "10072267  Paragon: The Overprime  4388597\n",
              "10072268  Paragon: The Overprime   705328\n",
              "10072269  Paragon: The Overprime  1347624\n",
              "\n",
              "[10072270 rows x 2 columns]"
            ],
            "text/html": [
              "\n",
              "  <div id=\"df-4a5fea7e-346a-4e5f-b505-4de6756fe13a\">\n",
              "    <div class=\"colab-df-container\">\n",
              "      <div>\n",
              "<style scoped>\n",
              "    .dataframe tbody tr th:only-of-type {\n",
              "        vertical-align: middle;\n",
              "    }\n",
              "\n",
              "    .dataframe tbody tr th {\n",
              "        vertical-align: top;\n",
              "    }\n",
              "\n",
              "    .dataframe thead th {\n",
              "        text-align: right;\n",
              "    }\n",
              "</style>\n",
              "<table border=\"1\" class=\"dataframe\">\n",
              "  <thead>\n",
              "    <tr style=\"text-align: right;\">\n",
              "      <th></th>\n",
              "      <th>title</th>\n",
              "      <th>user_id</th>\n",
              "    </tr>\n",
              "  </thead>\n",
              "  <tbody>\n",
              "    <tr>\n",
              "      <th>0</th>\n",
              "      <td>Dwarf Fortress</td>\n",
              "      <td>19954</td>\n",
              "    </tr>\n",
              "    <tr>\n",
              "      <th>1</th>\n",
              "      <td>Dwarf Fortress</td>\n",
              "      <td>4993590</td>\n",
              "    </tr>\n",
              "    <tr>\n",
              "      <th>2</th>\n",
              "      <td>Dwarf Fortress</td>\n",
              "      <td>4452487</td>\n",
              "    </tr>\n",
              "    <tr>\n",
              "      <th>3</th>\n",
              "      <td>Dwarf Fortress</td>\n",
              "      <td>3602361</td>\n",
              "    </tr>\n",
              "    <tr>\n",
              "      <th>4</th>\n",
              "      <td>Dwarf Fortress</td>\n",
              "      <td>5279412</td>\n",
              "    </tr>\n",
              "    <tr>\n",
              "      <th>...</th>\n",
              "      <td>...</td>\n",
              "      <td>...</td>\n",
              "    </tr>\n",
              "    <tr>\n",
              "      <th>10072265</th>\n",
              "      <td>Paragon: The Overprime</td>\n",
              "      <td>373561</td>\n",
              "    </tr>\n",
              "    <tr>\n",
              "      <th>10072266</th>\n",
              "      <td>Paragon: The Overprime</td>\n",
              "      <td>2165144</td>\n",
              "    </tr>\n",
              "    <tr>\n",
              "      <th>10072267</th>\n",
              "      <td>Paragon: The Overprime</td>\n",
              "      <td>4388597</td>\n",
              "    </tr>\n",
              "    <tr>\n",
              "      <th>10072268</th>\n",
              "      <td>Paragon: The Overprime</td>\n",
              "      <td>705328</td>\n",
              "    </tr>\n",
              "    <tr>\n",
              "      <th>10072269</th>\n",
              "      <td>Paragon: The Overprime</td>\n",
              "      <td>1347624</td>\n",
              "    </tr>\n",
              "  </tbody>\n",
              "</table>\n",
              "<p>10072270 rows × 2 columns</p>\n",
              "</div>\n",
              "      <button class=\"colab-df-convert\" onclick=\"convertToInteractive('df-4a5fea7e-346a-4e5f-b505-4de6756fe13a')\"\n",
              "              title=\"Convert this dataframe to an interactive table.\"\n",
              "              style=\"display:none;\">\n",
              "        \n",
              "  <svg xmlns=\"http://www.w3.org/2000/svg\" height=\"24px\"viewBox=\"0 0 24 24\"\n",
              "       width=\"24px\">\n",
              "    <path d=\"M0 0h24v24H0V0z\" fill=\"none\"/>\n",
              "    <path d=\"M18.56 5.44l.94 2.06.94-2.06 2.06-.94-2.06-.94-.94-2.06-.94 2.06-2.06.94zm-11 1L8.5 8.5l.94-2.06 2.06-.94-2.06-.94L8.5 2.5l-.94 2.06-2.06.94zm10 10l.94 2.06.94-2.06 2.06-.94-2.06-.94-.94-2.06-.94 2.06-2.06.94z\"/><path d=\"M17.41 7.96l-1.37-1.37c-.4-.4-.92-.59-1.43-.59-.52 0-1.04.2-1.43.59L10.3 9.45l-7.72 7.72c-.78.78-.78 2.05 0 2.83L4 21.41c.39.39.9.59 1.41.59.51 0 1.02-.2 1.41-.59l7.78-7.78 2.81-2.81c.8-.78.8-2.07 0-2.86zM5.41 20L4 18.59l7.72-7.72 1.47 1.35L5.41 20z\"/>\n",
              "  </svg>\n",
              "      </button>\n",
              "      \n",
              "  <style>\n",
              "    .colab-df-container {\n",
              "      display:flex;\n",
              "      flex-wrap:wrap;\n",
              "      gap: 12px;\n",
              "    }\n",
              "\n",
              "    .colab-df-convert {\n",
              "      background-color: #E8F0FE;\n",
              "      border: none;\n",
              "      border-radius: 50%;\n",
              "      cursor: pointer;\n",
              "      display: none;\n",
              "      fill: #1967D2;\n",
              "      height: 32px;\n",
              "      padding: 0 0 0 0;\n",
              "      width: 32px;\n",
              "    }\n",
              "\n",
              "    .colab-df-convert:hover {\n",
              "      background-color: #E2EBFA;\n",
              "      box-shadow: 0px 1px 2px rgba(60, 64, 67, 0.3), 0px 1px 3px 1px rgba(60, 64, 67, 0.15);\n",
              "      fill: #174EA6;\n",
              "    }\n",
              "\n",
              "    [theme=dark] .colab-df-convert {\n",
              "      background-color: #3B4455;\n",
              "      fill: #D2E3FC;\n",
              "    }\n",
              "\n",
              "    [theme=dark] .colab-df-convert:hover {\n",
              "      background-color: #434B5C;\n",
              "      box-shadow: 0px 1px 3px 1px rgba(0, 0, 0, 0.15);\n",
              "      filter: drop-shadow(0px 1px 2px rgba(0, 0, 0, 0.3));\n",
              "      fill: #FFFFFF;\n",
              "    }\n",
              "  </style>\n",
              "\n",
              "      <script>\n",
              "        const buttonEl =\n",
              "          document.querySelector('#df-4a5fea7e-346a-4e5f-b505-4de6756fe13a button.colab-df-convert');\n",
              "        buttonEl.style.display =\n",
              "          google.colab.kernel.accessAllowed ? 'block' : 'none';\n",
              "\n",
              "        async function convertToInteractive(key) {\n",
              "          const element = document.querySelector('#df-4a5fea7e-346a-4e5f-b505-4de6756fe13a');\n",
              "          const dataTable =\n",
              "            await google.colab.kernel.invokeFunction('convertToInteractive',\n",
              "                                                     [key], {});\n",
              "          if (!dataTable) return;\n",
              "\n",
              "          const docLinkHtml = 'Like what you see? Visit the ' +\n",
              "            '<a target=\"_blank\" href=https://colab.research.google.com/notebooks/data_table.ipynb>data table notebook</a>'\n",
              "            + ' to learn more about interactive tables.';\n",
              "          element.innerHTML = '';\n",
              "          dataTable['output_type'] = 'display_data';\n",
              "          await google.colab.output.renderOutput(dataTable, element);\n",
              "          const docLink = document.createElement('div');\n",
              "          docLink.innerHTML = docLinkHtml;\n",
              "          element.appendChild(docLink);\n",
              "        }\n",
              "      </script>\n",
              "    </div>\n",
              "  </div>\n",
              "  "
            ]
          },
          "metadata": {},
          "execution_count": 10
        }
      ]
    },
    {
      "cell_type": "code",
      "source": [
        "# save to a csv file\n",
        "\n",
        "ratings.to_csv('ratings.csv', index=False)\n",
        "games.to_csv('games.csv', index=False)"
      ],
      "metadata": {
        "id": "GTfe7Wt-yXbz"
      },
      "execution_count": null,
      "outputs": []
    },
    {
      "cell_type": "code",
      "source": [
        "from typing import Dict, Text\n",
        "# read the csv files as pandas data frames\n",
        "ratings_df = pd.read_csv('ratings.csv')\n",
        "games_df = pd.read_csv('games.csv')\n"
      ],
      "metadata": {
        "id": "t4Fu5gVRy18E"
      },
      "execution_count": null,
      "outputs": []
    },
    {
      "cell_type": "markdown",
      "source": [
        "We now convert our Panda Dataframe into Tensorflow dataset"
      ],
      "metadata": {
        "id": "IqVYQXTjzbSB"
      }
    },
    {
      "cell_type": "code",
      "source": [
        "# convert them to tf datasets\n",
        "ratings = tf.data.Dataset.from_tensor_slices(dict(ratings_df))\n",
        "games = tf.data.Dataset.from_tensor_slices(dict(games_df))"
      ],
      "metadata": {
        "id": "8GiLhI3bzhS_"
      },
      "execution_count": null,
      "outputs": []
    },
    {
      "cell_type": "code",
      "source": [
        "# get the first rows of the games dataset in tensorflows records\n",
        "for g in games.take(5):\n",
        "  print(g)"
      ],
      "metadata": {
        "colab": {
          "base_uri": "https://localhost:8080/"
        },
        "id": "YReP1m3qz3L2",
        "outputId": "8952bc4a-b22a-4b19-d8af-5d544df99f5c"
      },
      "execution_count": null,
      "outputs": [
        {
          "output_type": "stream",
          "name": "stdout",
          "text": [
            "{'app_id': <tf.Tensor: shape=(), dtype=int64, numpy=10090>, 'title': <tf.Tensor: shape=(), dtype=string, numpy=b'Call of Duty: World at War'>}\n",
            "{'app_id': <tf.Tensor: shape=(), dtype=int64, numpy=13500>, 'title': <tf.Tensor: shape=(), dtype=string, numpy=b'Prince of Persia: Warrior Within\\xe2\\x84\\xa2'>}\n",
            "{'app_id': <tf.Tensor: shape=(), dtype=int64, numpy=22364>, 'title': <tf.Tensor: shape=(), dtype=string, numpy=b'BRINK: Agents of Change'>}\n",
            "{'app_id': <tf.Tensor: shape=(), dtype=int64, numpy=113020>, 'title': <tf.Tensor: shape=(), dtype=string, numpy=b\"Monaco: What's Yours Is Mine\">}\n",
            "{'app_id': <tf.Tensor: shape=(), dtype=int64, numpy=226560>, 'title': <tf.Tensor: shape=(), dtype=string, numpy=b'Escape Dead Island'>}\n"
          ]
        }
      ]
    },
    {
      "cell_type": "code",
      "source": [
        "# get the first rows of the ratings/recommendatons dataset in tensorflows records\n",
        "for r in ratings.take(5):\n",
        "  print(r)"
      ],
      "metadata": {
        "colab": {
          "base_uri": "https://localhost:8080/"
        },
        "id": "lVkVV6tKz8Ez",
        "outputId": "ed1a29a9-e7cc-4181-a191-b05f71bba2bb"
      },
      "execution_count": null,
      "outputs": [
        {
          "output_type": "stream",
          "name": "stdout",
          "text": [
            "{'title': <tf.Tensor: shape=(), dtype=string, numpy=b'Dwarf Fortress'>, 'user_id': <tf.Tensor: shape=(), dtype=int64, numpy=19954>}\n",
            "{'title': <tf.Tensor: shape=(), dtype=string, numpy=b'Dwarf Fortress'>, 'user_id': <tf.Tensor: shape=(), dtype=int64, numpy=4993590>}\n",
            "{'title': <tf.Tensor: shape=(), dtype=string, numpy=b'Dwarf Fortress'>, 'user_id': <tf.Tensor: shape=(), dtype=int64, numpy=4452487>}\n",
            "{'title': <tf.Tensor: shape=(), dtype=string, numpy=b'Dwarf Fortress'>, 'user_id': <tf.Tensor: shape=(), dtype=int64, numpy=3602361>}\n",
            "{'title': <tf.Tensor: shape=(), dtype=string, numpy=b'Dwarf Fortress'>, 'user_id': <tf.Tensor: shape=(), dtype=int64, numpy=5279412>}\n"
          ]
        }
      ]
    },
    {
      "cell_type": "markdown",
      "source": [
        "In this example, we're going to focus on the ratings data. Other tutorials explore how to use the game information data as well to improve the model quality.\n",
        "\n",
        "We keep only the `user_id`, and `title` fields in the dataset."
      ],
      "metadata": {
        "id": "3b_2A9hrO4fW"
      }
    },
    {
      "cell_type": "code",
      "source": [
        "#We keep only the basic features i.e user_id, and title fields in the dataset.\n",
        "ratings = ratings.map(lambda x: {\n",
        "    \"title\": x[\"title\"],\n",
        "    \"user_id\": x[\"user_id\"],\n",
        "})\n",
        "games = games.map(lambda x: x[\"title\"])"
      ],
      "metadata": {
        "id": "7d4ejMZ50G7y",
        "colab": {
          "base_uri": "https://localhost:8080/"
        },
        "outputId": "5d4fe121-2c0d-416c-d67c-cccd12d35f63"
      },
      "execution_count": null,
      "outputs": [
        {
          "output_type": "stream",
          "name": "stderr",
          "text": [
            "WARNING:tensorflow:From /usr/local/lib/python3.9/dist-packages/tensorflow/python/autograph/pyct/static_analysis/liveness.py:83: Analyzer.lamba_check (from tensorflow.python.autograph.pyct.static_analysis.liveness) is deprecated and will be removed after 2023-09-23.\n",
            "Instructions for updating:\n",
            "Lambda fuctions will be no more assumed to be used in the statement where they are used, or at least in the same block. https://github.com/tensorflow/tensorflow/issues/56089\n"
          ]
        }
      ]
    },
    {
      "cell_type": "markdown",
      "source": [
        "To fit and evaluate the model, we need to split it into a training and evaluation set.\n",
        "\n",
        "\n",
        "In this simple example, however, let's use a random split, putting 80% of the ratings in the train set, and 20% in the test set."
      ],
      "metadata": {
        "id": "NAkF0Yq51VmI"
      }
    },
    {
      "cell_type": "code",
      "source": [
        "tf.random.set_seed(42)\n",
        "shuffled = ratings.shuffle(100_000, seed=42, reshuffle_each_iteration=False)\n",
        "\n",
        "train = shuffled.take(80_000)\n",
        "test = shuffled.skip(80_000).take(20_000)"
      ],
      "metadata": {
        "id": "N7cfMLPsKrlt"
      },
      "execution_count": null,
      "outputs": []
    },
    {
      "cell_type": "markdown",
      "source": [
        "Let's also figure out unique user ids and game titles present in the data.\n",
        "\n",
        "This is important because we need to be able to map the raw values of our categorical features to embedding vectors in our models. To do that, we need a vocabulary that maps a raw feature value to an integer in a contiguous range: this allows us to look up the corresponding embeddings in our embedding tables."
      ],
      "metadata": {
        "id": "TWbmP2cIPKmB"
      }
    },
    {
      "cell_type": "code",
      "source": [
        "titles = games.batch(1_000)\n",
        "user_ids = ratings.batch(1_000_000).map(lambda x: x[\"user_id\"])\n",
        "\n",
        "unique_game_titles = np.unique(np.concatenate(list(titles)))\n",
        "unique_user_ids = np.unique(np.concatenate(list(user_ids)))\n",
        "\n",
        "unique_game_titles[:10]"
      ],
      "metadata": {
        "colab": {
          "base_uri": "https://localhost:8080/"
        },
        "id": "j1j4Lr1SKDiX",
        "outputId": "92425ead-3778-4d80-88ab-3669cf5246ff"
      },
      "execution_count": null,
      "outputs": [
        {
          "output_type": "execute_result",
          "data": {
            "text/plain": [
              "array([b'! That Bastard Is Trying To Steal Our Gold !',\n",
              "       b'! Wild Russia !', b'!AnyWay!', b'!LABrpgUP!', b'#AkiRobots',\n",
              "       b'#Archery', b'#CuteSnake', b'#CuteSnake 2', b'#Funtime',\n",
              "       b'#KILLALLZOMBIES'], dtype=object)"
            ]
          },
          "metadata": {},
          "execution_count": 18
        }
      ]
    },
    {
      "cell_type": "markdown",
      "source": [
        "## Implementing a model\n",
        "\n",
        "Choosing the architecture of our model is a key part of modelling.\n",
        "\n",
        "Because we are building a two-tower retrieval model, we can build each tower separately and then combine them in the final model.\n",
        "\n",
        "![Two-tower-model.png](data:image/png;base64,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)"
      ],
      "metadata": {
        "id": "FMrdgEQN66M1"
      }
    },
    {
      "cell_type": "markdown",
      "source": [
        "### The query tower\n",
        "\n",
        "Let's start with the query tower.\n",
        "\n",
        "The first step is to decide on the dimensionality of the query and candidate representations:"
      ],
      "metadata": {
        "id": "UIaddlaA7Ehw"
      }
    },
    {
      "cell_type": "code",
      "source": [
        "embedding_dimension = 32"
      ],
      "metadata": {
        "id": "EAgbh-I-K26q"
      },
      "execution_count": null,
      "outputs": []
    },
    {
      "cell_type": "code",
      "source": [
        "user_model = tf.keras.Sequential([\n",
        "  tf.keras.layers.IntegerLookup(\n",
        "      vocabulary=unique_user_ids, mask_token=None),\n",
        "  # We add an additional embedding to account for unknown tokens.\n",
        "  tf.keras.layers.Embedding(len(unique_user_ids) + 1, embedding_dimension)\n",
        "])"
      ],
      "metadata": {
        "id": "ywsI5iOJKTdB"
      },
      "execution_count": null,
      "outputs": []
    },
    {
      "cell_type": "markdown",
      "source": [
        "### The candidate/Item tower\n",
        "\n",
        "We can do the same with the candidate tower."
      ],
      "metadata": {
        "id": "-U9M2ZQaPkXQ"
      }
    },
    {
      "cell_type": "code",
      "source": [
        "game_model = tf.keras.Sequential([\n",
        "  tf.keras.layers.StringLookup(\n",
        "      vocabulary=unique_game_titles, mask_token=None),\n",
        "  tf.keras.layers.Embedding(len(unique_game_titles) + 1, embedding_dimension)\n",
        "])"
      ],
      "metadata": {
        "id": "OuDD77mYPlPm"
      },
      "execution_count": null,
      "outputs": []
    },
    {
      "cell_type": "markdown",
      "source": [
        "### Metrics\n",
        "\n",
        "In our training data we have positive (user, game) pairs. To figure out how good our model is, we need to compare the affinity score that the model calculates for this pair to the scores of all the other possible candidates: if the score for the positive pair is higher than for all other candidates, our model is highly accurate.\n",
        "\n",
        "To do this, we can use the `tfrs.metrics.FactorizedTopK` metric. The metric has one required argument: the dataset of candidates that are used as implicit negatives for evaluation.\n",
        "\n",
        "In our case, that's the `games` dataset, converted into embeddings via our game model:"
      ],
      "metadata": {
        "id": "6eHSiWX6P-ns"
      }
    },
    {
      "cell_type": "code",
      "source": [
        "metrics = tfrs.metrics.FactorizedTopK(\n",
        "  candidates=games.batch(128).map(game_model)\n",
        ")"
      ],
      "metadata": {
        "id": "y6Klo3zXQFsM"
      },
      "execution_count": null,
      "outputs": []
    },
    {
      "cell_type": "markdown",
      "source": [
        "### Loss\n",
        "\n",
        "The next component is the loss used to train our model. TFRS has several loss layers and tasks to make this easy.\n",
        "\n",
        "In this instance, we'll make use of the `Retrieval` task object: a convenience wrapper that bundles together the loss function and metric computation:"
      ],
      "metadata": {
        "id": "MQsb4WYjQjv-"
      }
    },
    {
      "cell_type": "code",
      "source": [
        "task = tfrs.tasks.Retrieval(\n",
        "  metrics=metrics\n",
        ")"
      ],
      "metadata": {
        "id": "Nm07LzcpQl06"
      },
      "execution_count": null,
      "outputs": []
    },
    {
      "cell_type": "markdown",
      "source": [
        "The task itself is a Keras layer that takes the query and candidate embeddings as arguments, and returns the computed loss: we'll use that to implement the model's training loop."
      ],
      "metadata": {
        "id": "Y0NlVgW-Q1H0"
      }
    },
    {
      "cell_type": "markdown",
      "source": [
        "The full model\n",
        "We can now put it all together into a model. TFRS exposes a base model class (tfrs.models.Model) which streamlines building models: all we need to do is to set up the components in the __init__ method, and implement the compute_loss method, taking in the raw features and returning a loss value.\n",
        "\n",
        "The base model will then take care of creating the appropriate training loop to fit our model."
      ],
      "metadata": {
        "id": "ABiAsAT2Q3Q9"
      }
    },
    {
      "cell_type": "code",
      "source": [
        "class GamesPreModel(tfrs.Model):\n",
        "\n",
        "  def __init__(self, user_model, movie_model):\n",
        "    super().__init__()\n",
        "    self.game_model: tf.keras.Model = game_model\n",
        "    self.user_model: tf.keras.Model = user_model\n",
        "    self.task: tf.keras.layers.Layer = task\n",
        "\n",
        "  def compute_loss(self, features: Dict[Text, tf.Tensor], training=False) -> tf.Tensor:\n",
        "    # We pick out the user features and pass them into the user model.\n",
        "    user_embeddings = self.user_model(features[\"user_id\"])\n",
        "    # And pick out the movie features and pass them into the movie model,\n",
        "    # getting embeddings back.\n",
        "    positive_game_embeddings = self.game_model(features[\"title\"])\n",
        "\n",
        "    # The task computes the loss and the metrics.\n",
        "    return self.task(user_embeddings, positive_game_embeddings)"
      ],
      "metadata": {
        "id": "se8yENWLQ8de"
      },
      "execution_count": null,
      "outputs": []
    },
    {
      "cell_type": "markdown",
      "source": [
        "The `tfrs.Model` base class is a simply convenience class: it allows us to compute both training and test losses using the same method."
      ],
      "metadata": {
        "id": "pKG5M0DDRPSQ"
      }
    },
    {
      "cell_type": "markdown",
      "source": [
        "## Fitting and evaluating\n",
        "\n",
        "After defining the model, we can use standard Keras fitting and evaluation routines to fit and evaluate the model.\n",
        "\n",
        "Let's first instantiate the model."
      ],
      "metadata": {
        "id": "Y6Z5SXUeRzg2"
      }
    },
    {
      "cell_type": "code",
      "source": [
        "model = GamesPreModel(user_model, game_model)\n",
        "model.compile(optimizer=tf.keras.optimizers.Adagrad(learning_rate=0.1))"
      ],
      "metadata": {
        "id": "SL-8vxKfRYGX"
      },
      "execution_count": null,
      "outputs": []
    },
    {
      "cell_type": "code",
      "source": [
        "#Then shuffle, batch, and cache the training and evaluation data.\n",
        "cached_train = train.shuffle(100_000).batch(8192).cache()\n",
        "cached_test = test.batch(4096).cache()"
      ],
      "metadata": {
        "id": "unG260FKR71f"
      },
      "execution_count": null,
      "outputs": []
    },
    {
      "cell_type": "code",
      "source": [
        "#Train the Model\n",
        "model.fit(cached_train, epochs=3)"
      ],
      "metadata": {
        "colab": {
          "base_uri": "https://localhost:8080/"
        },
        "id": "27602YlOSFAr",
        "outputId": "fbb298db-7e56-49ee-cb94-56fdc960108b"
      },
      "execution_count": null,
      "outputs": [
        {
          "output_type": "stream",
          "name": "stdout",
          "text": [
            "Epoch 1/3\n",
            "10/10 [==============================] - 491s 46s/step - factorized_top_k/top_1_categorical_accuracy: 0.0606 - factorized_top_k/top_5_categorical_accuracy: 0.1466 - factorized_top_k/top_10_categorical_accuracy: 0.1588 - factorized_top_k/top_50_categorical_accuracy: 0.1868 - factorized_top_k/top_100_categorical_accuracy: 0.2013 - loss: 70369.3636 - regularization_loss: 0.0000e+00 - total_loss: 70369.3636\n",
            "Epoch 2/3\n",
            "10/10 [==============================] - 441s 44s/step - factorized_top_k/top_1_categorical_accuracy: 0.1041 - factorized_top_k/top_5_categorical_accuracy: 0.8819 - factorized_top_k/top_10_categorical_accuracy: 0.8854 - factorized_top_k/top_50_categorical_accuracy: 0.8926 - factorized_top_k/top_100_categorical_accuracy: 0.8958 - loss: 68915.2812 - regularization_loss: 0.0000e+00 - total_loss: 68915.2812\n",
            "Epoch 3/3\n",
            "10/10 [==============================] - 445s 44s/step - factorized_top_k/top_1_categorical_accuracy: 0.1345 - factorized_top_k/top_5_categorical_accuracy: 0.9969 - factorized_top_k/top_10_categorical_accuracy: 0.9969 - factorized_top_k/top_50_categorical_accuracy: 0.9970 - factorized_top_k/top_100_categorical_accuracy: 0.9970 - loss: 63127.3285 - regularization_loss: 0.0000e+00 - total_loss: 63127.3285\n"
          ]
        },
        {
          "output_type": "execute_result",
          "data": {
            "text/plain": [
              "<keras.callbacks.History at 0x7f8312a135b0>"
            ]
          },
          "metadata": {},
          "execution_count": 30
        }
      ]
    },
    {
      "cell_type": "markdown",
      "source": [
        "As the model trains, the loss is falling and a set of top-k retrieval metrics is updated. These tell us whether the true positive is in the top-k retrieved items from the entire candidate set. For example, a top-5 categorical accuracy metric of 0.2 would tell us that, on average, the true positive is in the top 5 retrieved items 20% of the time.\n",
        "\n",
        "Note that, in this example, we evaluate the metrics during training as well as evaluation. Because this can be quite slow with large candidate sets, it may be prudent to turn metric calculation off in training, and only run it in evaluation."
      ],
      "metadata": {
        "id": "xzAU8bTGSf2o"
      }
    },
    {
      "cell_type": "code",
      "source": [
        "#Evaluate model on testset\n",
        "model.evaluate(cached_test, return_dict=True)"
      ],
      "metadata": {
        "colab": {
          "base_uri": "https://localhost:8080/"
        },
        "id": "zbCjXBVWSKUq",
        "outputId": "11dca7d8-c841-4aa2-e84e-5347f3bba17d"
      },
      "execution_count": null,
      "outputs": [
        {
          "output_type": "stream",
          "name": "stdout",
          "text": [
            "5/5 [==============================] - 116s 23s/step - factorized_top_k/top_1_categorical_accuracy: 0.1294 - factorized_top_k/top_5_categorical_accuracy: 0.4364 - factorized_top_k/top_10_categorical_accuracy: 0.4399 - factorized_top_k/top_50_categorical_accuracy: 0.4476 - factorized_top_k/top_100_categorical_accuracy: 0.4514 - loss: 32698.9382 - regularization_loss: 0.0000e+00 - total_loss: 32698.9382\n"
          ]
        },
        {
          "output_type": "execute_result",
          "data": {
            "text/plain": [
              "{'factorized_top_k/top_1_categorical_accuracy': 0.1294499933719635,\n",
              " 'factorized_top_k/top_5_categorical_accuracy': 0.43639999628067017,\n",
              " 'factorized_top_k/top_10_categorical_accuracy': 0.43985000252723694,\n",
              " 'factorized_top_k/top_50_categorical_accuracy': 0.4476499855518341,\n",
              " 'factorized_top_k/top_100_categorical_accuracy': 0.45135000348091125,\n",
              " 'loss': 29723.67578125,\n",
              " 'regularization_loss': 0,\n",
              " 'total_loss': 29723.67578125}"
            ]
          },
          "metadata": {},
          "execution_count": 31
        }
      ]
    },
    {
      "cell_type": "markdown",
      "source": [
        "## Making predictions\n",
        "\n",
        "Now that we have a model, we would like to be able to make predictions. We can use the `tfrs.layers.factorized_top_k.BruteForce` layer to do this."
      ],
      "metadata": {
        "id": "Eaet78alS8yQ"
      }
    },
    {
      "cell_type": "code",
      "source": [
        "# Use brute-force search to set up retrieval using the trained representations.\n",
        "index = tfrs.layers.factorized_top_k.BruteForce(model.user_model)\n",
        "index.index_from_dataset(\n",
        "    games.batch(100).map(lambda title: (title, model.game_model(title))))\n",
        "\n",
        "# Get some recommendations.\n",
        "_, titles = index(np.array([16]))\n",
        "print(f\"Top 10 recommendations for user 42: {titles[0, :10]}\")"
      ],
      "metadata": {
        "colab": {
          "base_uri": "https://localhost:8080/"
        },
        "id": "zQm63nKRTCsp",
        "outputId": "302ddfa2-e97c-4fc3-a94a-046f209c153c"
      },
      "execution_count": null,
      "outputs": [
        {
          "output_type": "stream",
          "name": "stdout",
          "text": [
            "Top 10 recommendations for user 42: [b'Destiny 2' b'Legends of Ethernal' b'Darkwood - Soundtrack' b'Antenna'\n",
            " b'Outer Wilds - Original Soundtrack' b'Until You Fall' b'Cycle 28'\n",
            " b'Mirror Shoot' b'Turnip Boy Commits Tax Evasion'\n",
            " b'Victorian Mysteries: Woman in White']\n"
          ]
        }
      ]
    },
    {
      "cell_type": "markdown",
      "source": [
        "Of course, the `BruteForce` layer is going to be too slow to serve a model with many possible candidates. The following sections shows how to speed this up by using an approximate retrieval index."
      ],
      "metadata": {
        "id": "jsUBk9j1UUM_"
      }
    },
    {
      "cell_type": "markdown",
      "source": [
        "### Model serving\n",
        "After the model is trained, we need a way to deploy it.\n",
        "\n",
        "In a two-tower retrieval model, serving has two components:\n",
        "\n",
        "a serving query model, taking in features of the query and transforming them into a query embedding, and\n",
        "a serving candidate model. This most often takes the form of an approximate nearest neighbours (ANN) index which allows fast approximate lookup of candidates in response to a query produced by the query model."
      ],
      "metadata": {
        "id": "F5MHc04EUfXS"
      }
    },
    {
      "cell_type": "markdown",
      "source": [
        "In TFRS, both components can be packaged into a single exportable model, giving us a model that takes the raw user id and returns the titles of top games for that user. This is done via exporting the model to a `SavedModel` format, which makes it possible to serve using [TensorFlow Serving](https://www.tensorflow.org/tfx/guide/serving).\n",
        "\n",
        "To deploy a model like this, we simply export the `BruteForce` layer we created above:"
      ],
      "metadata": {
        "id": "ppOZRWXlUvnk"
      }
    },
    {
      "cell_type": "code",
      "source": [
        "# Export the query model.\n",
        "with tempfile.TemporaryDirectory() as tmp:\n",
        "  path = os.path.join(tmp, \"model\")\n",
        "\n",
        "  # Save the index.\n",
        "  tf.saved_model.save(index, path)\n",
        "\n",
        "  # Load it back; can also be done in TensorFlow Serving.\n",
        "  loaded = tf.saved_model.load(path)\n",
        "\n",
        "  # Pass a user id in, get top predicted movie titles back.\n",
        "  scores, titles = loaded([\"10980\"])\n",
        "\n",
        "  print(f\"Recommendations: {titles[0][:3]}\")"
      ],
      "metadata": {
        "id": "tpOWGxweUeps"
      },
      "execution_count": null,
      "outputs": []
    },
    {
      "cell_type": "markdown",
      "source": [],
      "metadata": {
        "id": "Qvdy-8-0tFp-"
      }
    }
  ]
}